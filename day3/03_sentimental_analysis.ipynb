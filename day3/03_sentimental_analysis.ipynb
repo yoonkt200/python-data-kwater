{
 "cells": [
  {
   "cell_type": "markdown",
   "metadata": {
    "id": "B9Zrj8DMusOn"
   },
   "source": [
    "## 1) Library & Data Import"
   ]
  },
  {
   "cell_type": "code",
   "execution_count": 1,
   "metadata": {
    "id": "yzvddH4TuuwD",
    "tags": []
   },
   "outputs": [],
   "source": [
    "%matplotlib inline\n",
    "\n",
    "import pandas as pd\n",
    "import numpy as np\n",
    "import matplotlib.pyplot as plt\n",
    "import seaborn as sns\n",
    "\n",
    "import warnings\n",
    "warnings.filterwarnings(\"ignore\")"
   ]
  },
  {
   "cell_type": "code",
   "execution_count": 2,
   "metadata": {
    "id": "Q_0x25QSuxrp",
    "tags": []
   },
   "outputs": [],
   "source": [
    "df = pd.read_csv(\"https://raw.githubusercontent.com/yoonkt200/FastCampusDataset/master/tripadviser_review.csv\")"
   ]
  },
  {
   "cell_type": "code",
   "execution_count": 3,
   "metadata": {
    "colab": {
     "base_uri": "https://localhost:8080/",
     "height": 206
    },
    "id": "90IQykX7vZ3t",
    "outputId": "c5400e8a-77c6-49dd-c4cb-54cbf7f331fb",
    "tags": []
   },
   "outputs": [
    {
     "data": {
      "text/html": [
       "<div>\n",
       "<style scoped>\n",
       "    .dataframe tbody tr th:only-of-type {\n",
       "        vertical-align: middle;\n",
       "    }\n",
       "\n",
       "    .dataframe tbody tr th {\n",
       "        vertical-align: top;\n",
       "    }\n",
       "\n",
       "    .dataframe thead th {\n",
       "        text-align: right;\n",
       "    }\n",
       "</style>\n",
       "<table border=\"1\" class=\"dataframe\">\n",
       "  <thead>\n",
       "    <tr style=\"text-align: right;\">\n",
       "      <th></th>\n",
       "      <th>rating</th>\n",
       "      <th>text</th>\n",
       "    </tr>\n",
       "  </thead>\n",
       "  <tbody>\n",
       "    <tr>\n",
       "      <th>0</th>\n",
       "      <td>4</td>\n",
       "      <td>여행에 집중할수 있게 편안한 휴식을 제공하는 호텔이었습니다. 위치선정 또한 적당한 ...</td>\n",
       "    </tr>\n",
       "    <tr>\n",
       "      <th>1</th>\n",
       "      <td>4</td>\n",
       "      <td>2일 이상 연박시 침대, 이불, 베게등 침구류 교체 및 어메니티 보강이 필요해 보입...</td>\n",
       "    </tr>\n",
       "    <tr>\n",
       "      <th>2</th>\n",
       "      <td>4</td>\n",
       "      <td>지인에소개로온 호텔  깨끗하고 좋은거같아요 처음에는 없는게 많아 많이  당황했는데 ...</td>\n",
       "    </tr>\n",
       "    <tr>\n",
       "      <th>3</th>\n",
       "      <td>5</td>\n",
       "      <td>방에 딱 들어서자마자 눈이 휘둥그레질정도로 이렇게 넓은 호텔 처음 와본 것 같아요!...</td>\n",
       "    </tr>\n",
       "    <tr>\n",
       "      <th>4</th>\n",
       "      <td>5</td>\n",
       "      <td>저녁에 맥주한잔 하는게 좋아서 렌트 안하고 뚜벅이 하기로 했는데 호텔 바로 앞에 버...</td>\n",
       "    </tr>\n",
       "  </tbody>\n",
       "</table>\n",
       "</div>"
      ],
      "text/plain": [
       "   rating                                               text\n",
       "0       4  여행에 집중할수 있게 편안한 휴식을 제공하는 호텔이었습니다. 위치선정 또한 적당한 ...\n",
       "1       4  2일 이상 연박시 침대, 이불, 베게등 침구류 교체 및 어메니티 보강이 필요해 보입...\n",
       "2       4  지인에소개로온 호텔  깨끗하고 좋은거같아요 처음에는 없는게 많아 많이  당황했는데 ...\n",
       "3       5  방에 딱 들어서자마자 눈이 휘둥그레질정도로 이렇게 넓은 호텔 처음 와본 것 같아요!...\n",
       "4       5  저녁에 맥주한잔 하는게 좋아서 렌트 안하고 뚜벅이 하기로 했는데 호텔 바로 앞에 버..."
      ]
     },
     "execution_count": 3,
     "metadata": {},
     "output_type": "execute_result"
    }
   ],
   "source": [
    "df.head()"
   ]
  },
  {
   "cell_type": "markdown",
   "metadata": {
    "id": "F8mjnHsgvioB"
   },
   "source": [
    "#### Feature Description\n",
    "- rating : 이용자 리뷰의 평가 점수\n",
    "- text : 이용자 리뷰 평가 내용"
   ]
  },
  {
   "cell_type": "markdown",
   "metadata": {
    "id": "i3P4CXUNvqtO"
   },
   "source": [
    "-----"
   ]
  },
  {
   "cell_type": "markdown",
   "metadata": {
    "id": "EmWaX52Rvuol"
   },
   "source": [
    "## 2) 데이터셋 살펴보기"
   ]
  },
  {
   "cell_type": "markdown",
   "metadata": {
    "id": "Fjj86LoLv3Wl"
   },
   "source": [
    "### 2-1) 기본 정보 탐색"
   ]
  },
  {
   "cell_type": "markdown",
   "metadata": {
    "id": "BZdMSr7Hyv3C"
   },
   "source": [
    "##### 데이터셋 기본 정보 탐색"
   ]
  },
  {
   "cell_type": "code",
   "execution_count": 4,
   "metadata": {
    "colab": {
     "base_uri": "https://localhost:8080/",
     "height": 34
    },
    "id": "yTRz57Qpvgl4",
    "outputId": "6ac22ece-812e-4b4e-f442-360033faf197",
    "tags": []
   },
   "outputs": [
    {
     "data": {
      "text/plain": [
       "(1001, 2)"
      ]
     },
     "execution_count": 4,
     "metadata": {},
     "output_type": "execute_result"
    }
   ],
   "source": [
    "df.shape"
   ]
  },
  {
   "cell_type": "code",
   "execution_count": 5,
   "metadata": {
    "colab": {
     "base_uri": "https://localhost:8080/",
     "height": 68
    },
    "id": "lJq9dP3qvlMg",
    "outputId": "ac5023a6-6815-4a5a-8835-51ffa7f81357",
    "tags": []
   },
   "outputs": [
    {
     "data": {
      "text/plain": [
       "rating    0\n",
       "text      0\n",
       "dtype: int64"
      ]
     },
     "execution_count": 5,
     "metadata": {},
     "output_type": "execute_result"
    }
   ],
   "source": [
    "df.isnull().sum()"
   ]
  },
  {
   "cell_type": "code",
   "execution_count": 6,
   "metadata": {
    "colab": {
     "base_uri": "https://localhost:8080/",
     "height": 136
    },
    "id": "K7SiIjlDwFGG",
    "outputId": "1107aaec-eb88-408e-aa07-0b3c169d7ae4",
    "tags": []
   },
   "outputs": [
    {
     "name": "stdout",
     "output_type": "stream",
     "text": [
      "<class 'pandas.core.frame.DataFrame'>\n",
      "RangeIndex: 1001 entries, 0 to 1000\n",
      "Data columns (total 2 columns):\n",
      " #   Column  Non-Null Count  Dtype \n",
      "---  ------  --------------  ----- \n",
      " 0   rating  1001 non-null   int64 \n",
      " 1   text    1001 non-null   object\n",
      "dtypes: int64(1), object(1)\n",
      "memory usage: 15.8+ KB\n"
     ]
    }
   ],
   "source": [
    "df.info()"
   ]
  },
  {
   "cell_type": "code",
   "execution_count": 7,
   "metadata": {
    "colab": {
     "base_uri": "https://localhost:8080/",
     "height": 34
    },
    "id": "c51l1Bld6c15",
    "outputId": "8c316a5c-5c91-45bb-f5b1-57afa44f1d19",
    "tags": []
   },
   "outputs": [
    {
     "data": {
      "text/plain": [
       "'여행에 집중할수 있게 편안한 휴식을 제공하는 호텔이었습니다. 위치선정 또한 적당한 편이었고 청소나 청결상태도 좋았습니다.'"
      ]
     },
     "execution_count": 7,
     "metadata": {},
     "output_type": "execute_result"
    }
   ],
   "source": [
    "df['text'][0]"
   ]
  },
  {
   "cell_type": "code",
   "execution_count": 8,
   "metadata": {
    "colab": {
     "base_uri": "https://localhost:8080/",
     "height": 34
    },
    "id": "JjX8EUde6f-g",
    "outputId": "466420c1-715c-433d-b80c-193c0f79ed92",
    "tags": []
   },
   "outputs": [
    {
     "data": {
      "text/plain": [
       "223576"
      ]
     },
     "execution_count": 8,
     "metadata": {},
     "output_type": "execute_result"
    }
   ],
   "source": [
    "len(df['text'].values.sum())"
   ]
  },
  {
   "cell_type": "markdown",
   "metadata": {
    "id": "7Ob0pe0oxI6Y"
   },
   "source": [
    "-----"
   ]
  },
  {
   "cell_type": "markdown",
   "metadata": {
    "id": "vtLhtuYwxI86"
   },
   "source": [
    "## 3) 한국어 텍스트 데이터 전처리"
   ]
  },
  {
   "cell_type": "markdown",
   "metadata": {
    "id": "ZAFsj3ppxI_J"
   },
   "source": [
    "### 3-0) konlpy 설치"
   ]
  },
  {
   "cell_type": "code",
   "execution_count": 9,
   "metadata": {
    "colab": {
     "base_uri": "https://localhost:8080/",
     "height": 309
    },
    "id": "__acxhPiw8X2",
    "outputId": "7868d249-abbd-4347-873e-1f004a295428",
    "tags": []
   },
   "outputs": [],
   "source": [
    "# 잘 안될 시, jpype1 Jpype1-py3 같이 설치\n",
    "!pip install konlpy"
   ]
  },
  {
   "cell_type": "markdown",
   "metadata": {
    "id": "yzf3UKBOAgQn"
   },
   "source": [
    "### 3-1) 정규표현식 적용"
   ]
  },
  {
   "cell_type": "code",
   "execution_count": 10,
   "metadata": {
    "id": "hE60OR0mxP0S",
    "tags": []
   },
   "outputs": [],
   "source": [
    "import re\n",
    "\n",
    "def apply_regular_expression(text):\n",
    "    hangul = re.compile('[^ ㄱ-ㅣ가-힣]') # 한글의 정규표현식\n",
    "    result = hangul.sub('', text)\n",
    "    return result"
   ]
  },
  {
   "cell_type": "code",
   "execution_count": 11,
   "metadata": {
    "colab": {
     "base_uri": "https://localhost:8080/",
     "height": 34
    },
    "id": "zBgiHxOW3KhY",
    "outputId": "8217d796-6515-4b1d-b01a-0f21b5c5e0c6",
    "tags": []
   },
   "outputs": [
    {
     "data": {
      "text/plain": [
       "'여행에 집중할수 있게 편안한 휴식을 제공하는 호텔이었습니다 위치선정 또한 적당한 편이었고 청소나 청결상태도 좋았습니다'"
      ]
     },
     "execution_count": 11,
     "metadata": {},
     "output_type": "execute_result"
    }
   ],
   "source": [
    "apply_regular_expression(df['text'][0])"
   ]
  },
  {
   "cell_type": "markdown",
   "metadata": {
    "id": "pghj3X8ZBaD5"
   },
   "source": [
    "-----"
   ]
  },
  {
   "cell_type": "markdown",
   "metadata": {
    "id": "4eAD9Zhs3ZjB"
   },
   "source": [
    "### 3-2) 한국어 형태소분석 - 명사 단위"
   ]
  },
  {
   "cell_type": "markdown",
   "metadata": {
    "id": "huXcIK1D7eGI"
   },
   "source": [
    "##### 명사 형태소 추출"
   ]
  },
  {
   "cell_type": "code",
   "execution_count": 12,
   "metadata": {
    "id": "ePWpmhzL7f0A",
    "tags": []
   },
   "outputs": [],
   "source": [
    "from konlpy.tag import Okt\n",
    "from collections import Counter\n",
    "\n",
    "nouns_tagger = Okt()\n",
    "nouns = nouns_tagger.nouns(apply_regular_expression(df['text'][0]))"
   ]
  },
  {
   "cell_type": "code",
   "execution_count": 13,
   "metadata": {
    "colab": {
     "base_uri": "https://localhost:8080/",
     "height": 34
    },
    "id": "XMdNZNRZAvmh",
    "outputId": "2d06322d-eea3-40e6-9f33-e6264d4ae50b",
    "tags": []
   },
   "outputs": [
    {
     "data": {
      "text/plain": [
       "['여행', '집중', '휴식', '제공', '호텔', '위치', '선정', '또한', '청소', '청결', '상태']"
      ]
     },
     "execution_count": 13,
     "metadata": {},
     "output_type": "execute_result"
    }
   ],
   "source": [
    "nouns"
   ]
  },
  {
   "cell_type": "code",
   "execution_count": 14,
   "metadata": {
    "id": "w4KTE9U5AvrJ",
    "tags": []
   },
   "outputs": [],
   "source": [
    "# 전체 말뭉치(corpus)에서 명사 형태소 추출\n",
    "nouns = nouns_tagger.nouns(apply_regular_expression(\"\".join(df['text'].tolist())))"
   ]
  },
  {
   "cell_type": "code",
   "execution_count": 15,
   "metadata": {
    "colab": {
     "base_uri": "https://localhost:8080/",
     "height": 187
    },
    "id": "Y5yywiItAvuK",
    "outputId": "9b0d0f50-ba96-49f5-8eea-ed427fcc3581",
    "tags": []
   },
   "outputs": [
    {
     "data": {
      "text/plain": [
       "[('호텔', 803),\n",
       " ('수', 498),\n",
       " ('것', 436),\n",
       " ('방', 330),\n",
       " ('위치', 328),\n",
       " ('우리', 327),\n",
       " ('곳', 320),\n",
       " ('공항', 307),\n",
       " ('직원', 267),\n",
       " ('매우', 264)]"
      ]
     },
     "execution_count": 15,
     "metadata": {},
     "output_type": "execute_result"
    }
   ],
   "source": [
    "# 빈도 탐색\n",
    "counter = Counter(nouns)\n",
    "counter.most_common(10)"
   ]
  },
  {
   "cell_type": "markdown",
   "metadata": {
    "id": "wpr7mEG5A2At"
   },
   "source": [
    "##### 한글자 명사 제거"
   ]
  },
  {
   "cell_type": "code",
   "execution_count": 16,
   "metadata": {
    "colab": {
     "base_uri": "https://localhost:8080/",
     "height": 187
    },
    "id": "fDZfri14Avw1",
    "outputId": "2b88780e-249e-4078-b14a-0b3ccdfb66b0",
    "tags": []
   },
   "outputs": [
    {
     "data": {
      "text/plain": [
       "[('호텔', 803),\n",
       " ('위치', 328),\n",
       " ('우리', 327),\n",
       " ('공항', 307),\n",
       " ('직원', 267),\n",
       " ('매우', 264),\n",
       " ('가격', 245),\n",
       " ('객실', 244),\n",
       " ('시설', 215),\n",
       " ('제주', 192)]"
      ]
     },
     "execution_count": 16,
     "metadata": {},
     "output_type": "execute_result"
    }
   ],
   "source": [
    "available_counter = Counter({x : counter[x] for x in counter if len(x) > 1})\n",
    "available_counter.most_common(10)"
   ]
  },
  {
   "cell_type": "markdown",
   "metadata": {
    "id": "QI0yqJ7PxS1q"
   },
   "source": [
    "-----"
   ]
  },
  {
   "cell_type": "markdown",
   "metadata": {
    "id": "Jbr6rURvBPJ6"
   },
   "source": [
    "### 3-3) 불용어 사전"
   ]
  },
  {
   "cell_type": "code",
   "execution_count": 17,
   "metadata": {
    "colab": {
     "base_uri": "https://localhost:8080/",
     "height": 34
    },
    "id": "7ZCmuyS8BUU9",
    "outputId": "117711b0-71fd-4380-e1a3-0b03ee0acde8",
    "tags": []
   },
   "outputs": [
    {
     "name": "stdout",
     "output_type": "stream",
     "text": [
      "[['휴'], ['아이구'], ['아이쿠'], ['아이고'], ['어'], ['나'], ['우리'], ['저희'], ['따라'], ['의해']]\n"
     ]
    }
   ],
   "source": [
    "# source - https://www.ranks.nl/stopwords/korean\n",
    "stopwords = pd.read_csv(\"https://raw.githubusercontent.com/yoonkt200/FastCampusDataset/master/korean_stopwords.txt\").values.tolist()\n",
    "print(stopwords[:10])"
   ]
  },
  {
   "cell_type": "code",
   "execution_count": 18,
   "metadata": {
    "id": "IJTLaAlwBUYE",
    "tags": []
   },
   "outputs": [],
   "source": [
    "# 데이터 특징을 반영한 불용어 추가\n",
    "jeju_hotel_stopwords = ['제주', '제주도', '호텔', '리뷰', '숙소', '여행', '트립']\n",
    "for word in jeju_hotel_stopwords:\n",
    "    stopwords.append(word)"
   ]
  },
  {
   "cell_type": "markdown",
   "metadata": {
    "id": "qb9hCD7GBWOJ"
   },
   "source": [
    "-----"
   ]
  },
  {
   "cell_type": "markdown",
   "metadata": {
    "id": "6-XoxM4KBWRB"
   },
   "source": [
    "### 3-4) Word Count"
   ]
  },
  {
   "cell_type": "markdown",
   "metadata": {
    "id": "0hNlz_-kCq3v"
   },
   "source": [
    "##### BoW 벡터 생성"
   ]
  },
  {
   "cell_type": "code",
   "execution_count": 20,
   "metadata": {
    "id": "ae-mZ9HOCcX1",
    "tags": []
   },
   "outputs": [],
   "source": [
    "from sklearn.feature_extraction.text import CountVectorizer\n",
    "\n",
    "def text_cleaning(text):\n",
    "    hangul = re.compile('[^ ㄱ-ㅣ가-힣]')\n",
    "    result = hangul.sub('', text)\n",
    "    tagger = Okt()\n",
    "    nouns = nouns_tagger.nouns(result)\n",
    "    nouns = [x for x in nouns if len(x) > 1]\n",
    "    nouns = [x for x in nouns if x not in stopwords]\n",
    "    return nouns\n",
    "\n",
    "vect = CountVectorizer(tokenizer = lambda x: text_cleaning(x))\n",
    "bow_vect = vect.fit_transform(df['text'].tolist())\n",
    "word_list = vect.get_feature_names_out()\n",
    "count_list = bow_vect.toarray().sum(axis=0)"
   ]
  },
  {
   "cell_type": "code",
   "execution_count": 21,
   "metadata": {
    "colab": {
     "base_uri": "https://localhost:8080/",
     "height": 1000
    },
    "id": "I7WlEPkKCca9",
    "outputId": "88c834aa-7b97-4841-9fe9-c619366c1d15",
    "tags": []
   },
   "outputs": [
    {
     "data": {
      "text/plain": [
       "array(['가가', '가게', '가격', ..., '희망', '히터', '힐링'], dtype=object)"
      ]
     },
     "execution_count": 21,
     "metadata": {},
     "output_type": "execute_result"
    }
   ],
   "source": [
    "word_list"
   ]
  },
  {
   "cell_type": "code",
   "execution_count": 22,
   "metadata": {
    "colab": {
     "base_uri": "https://localhost:8080/",
     "height": 34
    },
    "id": "6-FIjghaCcdb",
    "outputId": "da55a7df-808b-4a13-e041-aaadd500135f",
    "tags": []
   },
   "outputs": [
    {
     "data": {
      "text/plain": [
       "array([  4,   8, 245, ...,   1,   7,  14])"
      ]
     },
     "execution_count": 22,
     "metadata": {},
     "output_type": "execute_result"
    }
   ],
   "source": [
    "count_list"
   ]
  },
  {
   "cell_type": "code",
   "execution_count": 23,
   "metadata": {
    "colab": {
     "base_uri": "https://localhost:8080/",
     "height": 34
    },
    "id": "3od1nB2ECcf_",
    "outputId": "87bec688-53ca-422e-adef-92659bb80083",
    "tags": []
   },
   "outputs": [
    {
     "data": {
      "text/plain": [
       "(1001, 3599)"
      ]
     },
     "execution_count": 23,
     "metadata": {},
     "output_type": "execute_result"
    }
   ],
   "source": [
    "bow_vect.shape"
   ]
  },
  {
   "cell_type": "code",
   "execution_count": 24,
   "metadata": {
    "colab": {
     "base_uri": "https://localhost:8080/",
     "height": 136
    },
    "id": "H-jKjWBVCyAZ",
    "outputId": "ebeb7e25-a5b5-41b5-b95c-a0e3722d227b",
    "tags": []
   },
   "outputs": [
    {
     "data": {
      "text/plain": [
       "array([[0, 0, 0, ..., 0, 0, 0],\n",
       "       [0, 0, 0, ..., 0, 0, 0],\n",
       "       [0, 0, 0, ..., 0, 0, 0],\n",
       "       ...,\n",
       "       [0, 0, 0, ..., 0, 0, 0],\n",
       "       [0, 0, 2, ..., 0, 0, 0],\n",
       "       [0, 0, 0, ..., 0, 0, 0]])"
      ]
     },
     "execution_count": 24,
     "metadata": {},
     "output_type": "execute_result"
    }
   ],
   "source": [
    "bow_vect.toarray()"
   ]
  },
  {
   "cell_type": "code",
   "execution_count": 25,
   "metadata": {
    "colab": {
     "base_uri": "https://localhost:8080/",
     "height": 34
    },
    "id": "YHf8jMXgCyDN",
    "outputId": "62c06abc-3070-42a7-eeb0-c6ad890d8e9c",
    "tags": []
   },
   "outputs": [
    {
     "data": {
      "text/plain": [
       "array([  4,   8, 245, ...,   1,   7,  14])"
      ]
     },
     "execution_count": 25,
     "metadata": {},
     "output_type": "execute_result"
    }
   ],
   "source": [
    "bow_vect.toarray().sum(axis=0)"
   ]
  },
  {
   "cell_type": "code",
   "execution_count": 26,
   "metadata": {
    "colab": {
     "base_uri": "https://localhost:8080/",
     "height": 34
    },
    "id": "7Oeolrt9CyFZ",
    "outputId": "c8797833-9f70-4ff6-c949-eb83f56c07d8",
    "tags": []
   },
   "outputs": [
    {
     "data": {
      "text/plain": [
       "(3599,)"
      ]
     },
     "execution_count": 26,
     "metadata": {},
     "output_type": "execute_result"
    }
   ],
   "source": [
    "bow_vect.toarray().sum(axis=0).shape"
   ]
  },
  {
   "cell_type": "code",
   "execution_count": 28,
   "metadata": {
    "colab": {
     "base_uri": "https://localhost:8080/",
     "height": 1000
    },
    "id": "M5oVFqzSCyIK",
    "outputId": "bb95959b-568c-4eee-d69d-242bb5a4442d",
    "tags": []
   },
   "outputs": [],
   "source": [
    "word_count_dict = dict(zip(word_list, count_list))\n",
    "word_count_dict"
   ]
  },
  {
   "cell_type": "markdown",
   "metadata": {
    "id": "tv8-qE6MC79d"
   },
   "source": [
    "-----"
   ]
  },
  {
   "cell_type": "markdown",
   "metadata": {
    "id": "WMwtBHzKC85L"
   },
   "source": [
    "### 3-5) TF-IDF 적용"
   ]
  },
  {
   "cell_type": "markdown",
   "metadata": {
    "id": "d6kLDjZYDHs7"
   },
   "source": [
    "##### TF-IDF 변환"
   ]
  },
  {
   "cell_type": "code",
   "execution_count": 29,
   "metadata": {
    "id": "eE5AR1IzDCAD",
    "tags": []
   },
   "outputs": [],
   "source": [
    "from sklearn.feature_extraction.text import TfidfTransformer\n",
    "\n",
    "tfidf_vectorizer = TfidfTransformer()\n",
    "tf_idf_vect = tfidf_vectorizer.fit_transform(bow_vect)"
   ]
  },
  {
   "cell_type": "code",
   "execution_count": 30,
   "metadata": {
    "colab": {
     "base_uri": "https://localhost:8080/",
     "height": 187
    },
    "id": "bCq6b-3TDCC-",
    "outputId": "bf7d2b7c-44c1-406c-d570-a7b8bc77f734",
    "tags": []
   },
   "outputs": [
    {
     "name": "stdout",
     "output_type": "stream",
     "text": [
      "(1001, 3599)\n",
      "  (0, 3588)\t0.35673213299026796\n",
      "  (0, 2927)\t0.2582351368959594\n",
      "  (0, 2925)\t0.320251680858207\n",
      "  (0, 2866)\t0.48843555212083145\n",
      "  (0, 2696)\t0.23004450213863206\n",
      "  (0, 2311)\t0.15421663035331626\n",
      "  (0, 1584)\t0.48843555212083145\n",
      "  (0, 1527)\t0.2928089229786031\n",
      "  (0, 790)\t0.2528176728459411\n"
     ]
    }
   ],
   "source": [
    "print(tf_idf_vect.shape)\n",
    "print(tf_idf_vect[0])"
   ]
  },
  {
   "cell_type": "markdown",
   "metadata": {
    "id": "LAXZrfU8DRPx"
   },
   "source": [
    "##### 벡터 : 단어 맵핑"
   ]
  },
  {
   "cell_type": "code",
   "execution_count": 31,
   "metadata": {
    "colab": {
     "base_uri": "https://localhost:8080/",
     "height": 34
    },
    "id": "jpOhHaKqDCFm",
    "outputId": "dbc2084e-1303-4935-adeb-d2b38e019c6b",
    "tags": []
   },
   "outputs": [
    {
     "name": "stdout",
     "output_type": "stream",
     "text": [
      "{2866: '집중', 3588: '휴식', 2696: '제공', 2311: '위치', 1584: '선정', 790: '또한', 2927: '청소', 2925: '청결', 1527..\n"
     ]
    }
   ],
   "source": [
    "invert_index_vectorizer = {v: k for k, v in vect.vocabulary_.items()}\n",
    "print(str(invert_index_vectorizer)[:100]+'..')"
   ]
  },
  {
   "cell_type": "markdown",
   "metadata": {
    "id": "nvwPAdU2DA_v"
   },
   "source": [
    "-----"
   ]
  },
  {
   "cell_type": "markdown",
   "metadata": {
    "id": "3Nb-h1fM7nLc"
   },
   "source": [
    "## 4) Logistic Regression 분류"
   ]
  },
  {
   "cell_type": "markdown",
   "metadata": {
    "id": "87E9Sz5g4YFE"
   },
   "source": [
    "### 4-1) 데이터셋 생성"
   ]
  },
  {
   "cell_type": "markdown",
   "metadata": {
    "id": "dcVGBXHVDeIu"
   },
   "source": [
    "##### Rating 데이터 이진으로 변환"
   ]
  },
  {
   "cell_type": "code",
   "execution_count": 32,
   "metadata": {
    "colab": {
     "base_uri": "https://localhost:8080/",
     "height": 204
    },
    "id": "PS27E0CT4h-7",
    "outputId": "4750dde8-8784-4399-b5e8-d6b4d7a50b43",
    "tags": []
   },
   "outputs": [
    {
     "data": {
      "text/html": [
       "<div>\n",
       "<style scoped>\n",
       "    .dataframe tbody tr th:only-of-type {\n",
       "        vertical-align: middle;\n",
       "    }\n",
       "\n",
       "    .dataframe tbody tr th {\n",
       "        vertical-align: top;\n",
       "    }\n",
       "\n",
       "    .dataframe thead th {\n",
       "        text-align: right;\n",
       "    }\n",
       "</style>\n",
       "<table border=\"1\" class=\"dataframe\">\n",
       "  <thead>\n",
       "    <tr style=\"text-align: right;\">\n",
       "      <th></th>\n",
       "      <th>rating</th>\n",
       "      <th>text</th>\n",
       "    </tr>\n",
       "  </thead>\n",
       "  <tbody>\n",
       "    <tr>\n",
       "      <th>0</th>\n",
       "      <td>4</td>\n",
       "      <td>여행에 집중할수 있게 편안한 휴식을 제공하는 호텔이었습니다. 위치선정 또한 적당한 ...</td>\n",
       "    </tr>\n",
       "    <tr>\n",
       "      <th>1</th>\n",
       "      <td>4</td>\n",
       "      <td>2일 이상 연박시 침대, 이불, 베게등 침구류 교체 및 어메니티 보강이 필요해 보입...</td>\n",
       "    </tr>\n",
       "    <tr>\n",
       "      <th>2</th>\n",
       "      <td>4</td>\n",
       "      <td>지인에소개로온 호텔  깨끗하고 좋은거같아요 처음에는 없는게 많아 많이  당황했는데 ...</td>\n",
       "    </tr>\n",
       "    <tr>\n",
       "      <th>3</th>\n",
       "      <td>5</td>\n",
       "      <td>방에 딱 들어서자마자 눈이 휘둥그레질정도로 이렇게 넓은 호텔 처음 와본 것 같아요!...</td>\n",
       "    </tr>\n",
       "    <tr>\n",
       "      <th>4</th>\n",
       "      <td>5</td>\n",
       "      <td>저녁에 맥주한잔 하는게 좋아서 렌트 안하고 뚜벅이 하기로 했는데 호텔 바로 앞에 버...</td>\n",
       "    </tr>\n",
       "  </tbody>\n",
       "</table>\n",
       "</div>"
      ],
      "text/plain": [
       "   rating                                               text\n",
       "0       4  여행에 집중할수 있게 편안한 휴식을 제공하는 호텔이었습니다. 위치선정 또한 적당한 ...\n",
       "1       4  2일 이상 연박시 침대, 이불, 베게등 침구류 교체 및 어메니티 보강이 필요해 보입...\n",
       "2       4  지인에소개로온 호텔  깨끗하고 좋은거같아요 처음에는 없는게 많아 많이  당황했는데 ...\n",
       "3       5  방에 딱 들어서자마자 눈이 휘둥그레질정도로 이렇게 넓은 호텔 처음 와본 것 같아요!...\n",
       "4       5  저녁에 맥주한잔 하는게 좋아서 렌트 안하고 뚜벅이 하기로 했는데 호텔 바로 앞에 버..."
      ]
     },
     "execution_count": 32,
     "metadata": {},
     "output_type": "execute_result"
    }
   ],
   "source": [
    "df.head()"
   ]
  },
  {
   "cell_type": "code",
   "execution_count": 33,
   "metadata": {
    "colab": {
     "base_uri": "https://localhost:8080/",
     "height": 283
    },
    "id": "lXvHnoTY96zZ",
    "outputId": "a98dc0c8-f88c-4f53-82d4-e71dfa10dea2",
    "tags": []
   },
   "outputs": [
    {
     "data": {
      "text/plain": [
       "<Axes: >"
      ]
     },
     "execution_count": 33,
     "metadata": {},
     "output_type": "execute_result"
    },
    {
     "data": {
      "image/png": "[encoded data removed]",
      "text/plain": [
       "<Figure size 640x480 with 1 Axes>"
      ]
     },
     "metadata": {},
     "output_type": "display_data"
    }
   ],
   "source": [
    "df.rating.hist()"
   ]
  },
  {
   "cell_type": "code",
   "execution_count": 34,
   "metadata": {
    "id": "lhjSTR4HDlXS",
    "tags": []
   },
   "outputs": [],
   "source": [
    "def rating_to_label(rating):\n",
    "    if rating > 3:\n",
    "        return 1\n",
    "    else:\n",
    "        return 0\n",
    "\n",
    "df['y'] = df['rating'].apply(lambda x: rating_to_label(x))"
   ]
  },
  {
   "cell_type": "code",
   "execution_count": 35,
   "metadata": {
    "colab": {
     "base_uri": "https://localhost:8080/",
     "height": 204
    },
    "id": "fADwGYKLDlaU",
    "outputId": "a2d1ec3e-ce2e-4666-bac4-9366be49cea6",
    "tags": []
   },
   "outputs": [
    {
     "data": {
      "text/html": [
       "<div>\n",
       "<style scoped>\n",
       "    .dataframe tbody tr th:only-of-type {\n",
       "        vertical-align: middle;\n",
       "    }\n",
       "\n",
       "    .dataframe tbody tr th {\n",
       "        vertical-align: top;\n",
       "    }\n",
       "\n",
       "    .dataframe thead th {\n",
       "        text-align: right;\n",
       "    }\n",
       "</style>\n",
       "<table border=\"1\" class=\"dataframe\">\n",
       "  <thead>\n",
       "    <tr style=\"text-align: right;\">\n",
       "      <th></th>\n",
       "      <th>rating</th>\n",
       "      <th>text</th>\n",
       "      <th>y</th>\n",
       "    </tr>\n",
       "  </thead>\n",
       "  <tbody>\n",
       "    <tr>\n",
       "      <th>0</th>\n",
       "      <td>4</td>\n",
       "      <td>여행에 집중할수 있게 편안한 휴식을 제공하는 호텔이었습니다. 위치선정 또한 적당한 ...</td>\n",
       "      <td>1</td>\n",
       "    </tr>\n",
       "    <tr>\n",
       "      <th>1</th>\n",
       "      <td>4</td>\n",
       "      <td>2일 이상 연박시 침대, 이불, 베게등 침구류 교체 및 어메니티 보강이 필요해 보입...</td>\n",
       "      <td>1</td>\n",
       "    </tr>\n",
       "    <tr>\n",
       "      <th>2</th>\n",
       "      <td>4</td>\n",
       "      <td>지인에소개로온 호텔  깨끗하고 좋은거같아요 처음에는 없는게 많아 많이  당황했는데 ...</td>\n",
       "      <td>1</td>\n",
       "    </tr>\n",
       "    <tr>\n",
       "      <th>3</th>\n",
       "      <td>5</td>\n",
       "      <td>방에 딱 들어서자마자 눈이 휘둥그레질정도로 이렇게 넓은 호텔 처음 와본 것 같아요!...</td>\n",
       "      <td>1</td>\n",
       "    </tr>\n",
       "    <tr>\n",
       "      <th>4</th>\n",
       "      <td>5</td>\n",
       "      <td>저녁에 맥주한잔 하는게 좋아서 렌트 안하고 뚜벅이 하기로 했는데 호텔 바로 앞에 버...</td>\n",
       "      <td>1</td>\n",
       "    </tr>\n",
       "  </tbody>\n",
       "</table>\n",
       "</div>"
      ],
      "text/plain": [
       "   rating                                               text  y\n",
       "0       4  여행에 집중할수 있게 편안한 휴식을 제공하는 호텔이었습니다. 위치선정 또한 적당한 ...  1\n",
       "1       4  2일 이상 연박시 침대, 이불, 베게등 침구류 교체 및 어메니티 보강이 필요해 보입...  1\n",
       "2       4  지인에소개로온 호텔  깨끗하고 좋은거같아요 처음에는 없는게 많아 많이  당황했는데 ...  1\n",
       "3       5  방에 딱 들어서자마자 눈이 휘둥그레질정도로 이렇게 넓은 호텔 처음 와본 것 같아요!...  1\n",
       "4       5  저녁에 맥주한잔 하는게 좋아서 렌트 안하고 뚜벅이 하기로 했는데 호텔 바로 앞에 버...  1"
      ]
     },
     "execution_count": 35,
     "metadata": {},
     "output_type": "execute_result"
    }
   ],
   "source": [
    "df.head()"
   ]
  },
  {
   "cell_type": "code",
   "execution_count": 36,
   "metadata": {
    "colab": {
     "base_uri": "https://localhost:8080/",
     "height": 68
    },
    "id": "FZi8MUaxDp2U",
    "outputId": "796a0d17-c295-4403-a0bb-cf8c435206c2",
    "tags": []
   },
   "outputs": [
    {
     "data": {
      "text/plain": [
       "y\n",
       "1    726\n",
       "0    275\n",
       "Name: count, dtype: int64"
      ]
     },
     "execution_count": 36,
     "metadata": {},
     "output_type": "execute_result"
    }
   ],
   "source": [
    "df.y.value_counts()"
   ]
  },
  {
   "cell_type": "markdown",
   "metadata": {
    "id": "ocEMVqzM-MdE"
   },
   "source": [
    "-----"
   ]
  },
  {
   "cell_type": "markdown",
   "metadata": {
    "id": "dK64F8GZ-N8s"
   },
   "source": []
  },
  {
   "cell_type": "markdown",
   "metadata": {
    "id": "Pe7BOBrW-OAw"
   },
   "source": [
    "### 4-2) 데이터셋 분리"
   ]
  },
  {
   "cell_type": "code",
   "execution_count": 37,
   "metadata": {
    "id": "-Wxv-F3P-NEU",
    "tags": []
   },
   "outputs": [],
   "source": [
    "from sklearn.model_selection import train_test_split\n",
    "\n",
    "y = df['y']\n",
    "x_train, x_test, y_train, y_test = train_test_split(tf_idf_vect, y, test_size=0.30)"
   ]
  },
  {
   "cell_type": "code",
   "execution_count": 38,
   "metadata": {
    "colab": {
     "base_uri": "https://localhost:8080/",
     "height": 51
    },
    "id": "rsDAFsCY-Unv",
    "outputId": "1b59dce9-4a6d-4d6f-da6d-f7ee4ce138dc",
    "tags": []
   },
   "outputs": [
    {
     "name": "stdout",
     "output_type": "stream",
     "text": [
      "(700, 3599)\n",
      "(301, 3599)\n"
     ]
    }
   ],
   "source": [
    "print(x_train.shape)\n",
    "print(x_test.shape)"
   ]
  },
  {
   "cell_type": "markdown",
   "metadata": {
    "id": "pMkSIg7JD7rj"
   },
   "source": [
    "-----"
   ]
  },
  {
   "cell_type": "markdown",
   "metadata": {
    "id": "lHGviAneD7vN"
   },
   "source": [
    "### 4-3) 모델 학습"
   ]
  },
  {
   "cell_type": "markdown",
   "metadata": {
    "id": "kbez8JYXD7x-"
   },
   "source": [
    "##### Logistic Regression 학습"
   ]
  },
  {
   "cell_type": "code",
   "execution_count": 39,
   "metadata": {
    "id": "rx7Ojv4TEBq3",
    "tags": []
   },
   "outputs": [],
   "source": [
    "from sklearn.linear_model import LogisticRegression\n",
    "from sklearn.metrics import accuracy_score, precision_score, recall_score, f1_score\n",
    "\n",
    "# Train LR model\n",
    "lr = LogisticRegression(random_state=0)\n",
    "lr.fit(x_train, y_train)\n",
    "\n",
    "# classifiacation predict\n",
    "y_pred = lr.predict(x_test)"
   ]
  },
  {
   "cell_type": "markdown",
   "metadata": {
    "id": "eYOegz_7EKg8"
   },
   "source": [
    "##### 분류 결과 평가"
   ]
  },
  {
   "cell_type": "code",
   "execution_count": 40,
   "metadata": {
    "colab": {
     "base_uri": "https://localhost:8080/",
     "height": 85
    },
    "id": "lyLhjDwFEB8h",
    "outputId": "b45026e2-b35e-4f19-bbfe-da290b48b675",
    "tags": []
   },
   "outputs": [
    {
     "name": "stdout",
     "output_type": "stream",
     "text": [
      "accuracy: 0.74\n",
      "Precision : 0.742\n",
      "Recall : 1.000\n",
      "F1 : 0.852\n"
     ]
    }
   ],
   "source": [
    "# classification result for test dataset\n",
    "print(\"accuracy: %.2f\" % accuracy_score(y_test, y_pred))\n",
    "print(\"Precision : %.3f\" % precision_score(y_test, y_pred))\n",
    "print(\"Recall : %.3f\" % recall_score(y_test, y_pred))\n",
    "print(\"F1 : %.3f\" % f1_score(y_test, y_pred))"
   ]
  },
  {
   "cell_type": "code",
   "execution_count": 41,
   "metadata": {
    "colab": {
     "base_uri": "https://localhost:8080/",
     "height": 51
    },
    "id": "6gd3tmYXEJ32",
    "outputId": "082b402b-ec57-4e89-c7c0-962172a68b96",
    "tags": []
   },
   "outputs": [
    {
     "name": "stdout",
     "output_type": "stream",
     "text": [
      "[[  3  77]\n",
      " [  0 221]]\n"
     ]
    }
   ],
   "source": [
    "from sklearn.metrics import confusion_matrix\n",
    "\n",
    "# print confusion matrix\n",
    "confmat = confusion_matrix(y_true=y_test, y_pred=y_pred)\n",
    "print(confmat)"
   ]
  },
  {
   "cell_type": "markdown",
   "metadata": {
    "id": "UHt-LenyEOnp"
   },
   "source": [
    "-----"
   ]
  },
  {
   "cell_type": "markdown",
   "metadata": {
    "id": "N70AyTZDEOuz"
   },
   "source": [
    "### 4-4) 샘플링 재조정"
   ]
  },
  {
   "cell_type": "markdown",
   "metadata": {
    "id": "3u1UonfVEWnR"
   },
   "source": [
    "##### 1:1 Sampling"
   ]
  },
  {
   "cell_type": "code",
   "execution_count": 42,
   "metadata": {
    "id": "3BYUcp08ER7-",
    "tags": []
   },
   "outputs": [],
   "source": [
    "positive_random_idx = df[df['y']==1].sample(275, random_state=33).index.tolist()\n",
    "negative_random_idx = df[df['y']==0].sample(275, random_state=33).index.tolist()"
   ]
  },
  {
   "cell_type": "code",
   "execution_count": 43,
   "metadata": {
    "id": "HUTZegD7EVkc",
    "tags": []
   },
   "outputs": [],
   "source": [
    "# dataset split to train/test\n",
    "random_idx = positive_random_idx + negative_random_idx\n",
    "X = tf_idf_vect[random_idx]\n",
    "y = df['y'][random_idx]\n",
    "x_train, x_test, y_train, y_test = train_test_split(X, y, test_size=0.25, random_state=33)"
   ]
  },
  {
   "cell_type": "code",
   "execution_count": 44,
   "metadata": {
    "colab": {
     "base_uri": "https://localhost:8080/",
     "height": 51
    },
    "id": "YHvy8WzGEaBy",
    "outputId": "88aad2ee-4be5-4b28-c506-5880373b90b9",
    "tags": []
   },
   "outputs": [
    {
     "name": "stdout",
     "output_type": "stream",
     "text": [
      "(412, 3599)\n",
      "(138, 3599)\n"
     ]
    }
   ],
   "source": [
    "print(x_train.shape)\n",
    "print(x_test.shape)"
   ]
  },
  {
   "cell_type": "markdown",
   "metadata": {
    "id": "TDPgGZJeEfSd"
   },
   "source": [
    "##### 모델 재학습"
   ]
  },
  {
   "cell_type": "code",
   "execution_count": 45,
   "metadata": {
    "id": "uFO_UsnCEbGB",
    "tags": []
   },
   "outputs": [],
   "source": [
    "lr = LogisticRegression(random_state=0)\n",
    "lr.fit(x_train, y_train)\n",
    "y_pred = lr.predict(x_test)"
   ]
  },
  {
   "cell_type": "markdown",
   "metadata": {
    "id": "y3PqFXYAEjzQ"
   },
   "source": [
    "##### 분류 결과 평가"
   ]
  },
  {
   "cell_type": "code",
   "execution_count": 46,
   "metadata": {
    "colab": {
     "base_uri": "https://localhost:8080/",
     "height": 85
    },
    "id": "QKiAhKirEeOQ",
    "outputId": "eab91658-735d-416b-c702-783228533eb7",
    "tags": []
   },
   "outputs": [
    {
     "name": "stdout",
     "output_type": "stream",
     "text": [
      "accuracy: 0.72\n",
      "Precision : 0.644\n",
      "Recall : 0.797\n",
      "F1 : 0.712\n"
     ]
    }
   ],
   "source": [
    "print(\"accuracy: %.2f\" % accuracy_score(y_test, y_pred))\n",
    "print(\"Precision : %.3f\" % precision_score(y_test, y_pred))\n",
    "print(\"Recall : %.3f\" % recall_score(y_test, y_pred))\n",
    "print(\"F1 : %.3f\" % f1_score(y_test, y_pred))"
   ]
  },
  {
   "cell_type": "code",
   "execution_count": 47,
   "metadata": {
    "colab": {
     "base_uri": "https://localhost:8080/",
     "height": 51
    },
    "id": "uMRrUbU0Ei-B",
    "outputId": "e62382fa-16a7-4194-84a4-fea6b5cf6313",
    "tags": []
   },
   "outputs": [
    {
     "name": "stdout",
     "output_type": "stream",
     "text": [
      "[[53 26]\n",
      " [12 47]]\n"
     ]
    }
   ],
   "source": [
    "confmat = confusion_matrix(y_true=y_test, y_pred=y_pred)\n",
    "print(confmat)"
   ]
  },
  {
   "cell_type": "markdown",
   "metadata": {
    "id": "GeQGRMLaFFLk"
   },
   "source": [
    "-----"
   ]
  },
  {
   "cell_type": "markdown",
   "metadata": {
    "id": "3Ob_KEwxFGvr"
   },
   "source": [
    "## 5) 긍정/부정 키워드 분석"
   ]
  },
  {
   "cell_type": "markdown",
   "metadata": {
    "id": "HVYQEDe0FNG0"
   },
   "source": [
    "##### Logistic Regression 모델의 coef 분석"
   ]
  },
  {
   "cell_type": "code",
   "execution_count": 48,
   "metadata": {
    "colab": {
     "base_uri": "https://localhost:8080/",
     "height": 500
    },
    "id": "D5rVvWCQElIa",
    "outputId": "ef112e3f-0be2-4eca-86a6-1559fff15b5a",
    "tags": []
   },
   "outputs": [
    {
     "data": {
      "text/plain": [
       "<BarContainer object of 3599 artists>"
      ]
     },
     "execution_count": 48,
     "metadata": {},
     "output_type": "execute_result"
    },
    {
     "data": {
      "image/png": "[encoded data removed]",
      "text/plain": [
       "<Figure size 1000x800 with 1 Axes>"
      ]
     },
     "metadata": {},
     "output_type": "display_data"
    }
   ],
   "source": [
    "# print logistic regression's coef\n",
    "plt.rcParams['figure.figsize'] = [10, 8]\n",
    "plt.bar(range(len(lr.coef_[0])), lr.coef_[0])"
   ]
  },
  {
   "cell_type": "markdown",
   "metadata": {
    "id": "MvLq3hSpFUO7"
   },
   "source": [
    "##### 긍정/부정 키워드 출력"
   ]
  },
  {
   "cell_type": "code",
   "execution_count": 49,
   "metadata": {
    "colab": {
     "base_uri": "https://localhost:8080/",
     "height": 71
    },
    "id": "me2xwEybFTnD",
    "outputId": "937ff051-ef4f-45b3-f82a-1cd693245718",
    "tags": []
   },
   "outputs": [
    {
     "name": "stdout",
     "output_type": "stream",
     "text": [
      "[(1.3321308087111166, 2400), (1.1098677278465363, 2977), (1.029120247844704, 1247), (0.9474432432978867, 2957), (0.9049132254229897, 26)]\n",
      "[(-0.6491883332225628, 363), (-0.6683241824194208, 3538), (-0.6811855513119685, 1909), (-0.9632209931825515, 1293), (-1.1245008869879287, 515)]\n"
     ]
    }
   ],
   "source": [
    "print(sorted(((value, index) for index, value in enumerate(lr.coef_[0])), reverse=True)[:5])\n",
    "print(sorted(((value, index) for index, value in enumerate(lr.coef_[0])), reverse=True)[-5:])"
   ]
  },
  {
   "cell_type": "code",
   "execution_count": 50,
   "metadata": {
    "colab": {
     "base_uri": "https://localhost:8080/",
     "height": 1000
    },
    "id": "yGxlW37CFbd7",
    "outputId": "1adbe64c-e97e-47bd-98f1-9baa2933e074",
    "tags": []
   },
   "outputs": [
    {
     "data": {
      "text/plain": [
       "[(1.3321308087111166, 2400),\n",
       " (1.1098677278465363, 2977),\n",
       " (1.029120247844704, 1247),\n",
       " (0.9474432432978867, 2957),\n",
       " (0.9049132254229897, 26),\n",
       " (0.8631251640260484, 385),\n",
       " (0.8624237330200113, 2730),\n",
       " (0.7848182816732695, 578),\n",
       " (0.7329902190264134, 2311),\n",
       " (0.7168654931407249, 246),\n",
       " (0.7161355390234534, 1809),\n",
       " (0.7134163462461057, 956),\n",
       " (0.7044600617626677, 115),\n",
       " (0.6869152801231841, 1384),\n",
       " (0.6556108465327282, 1148),\n",
       " (0.6279495890384097, 2849),\n",
       " (0.6222266165132151, 2779),\n",
       " (0.6161464320403829, 883),\n",
       " (0.5993549427526994, 1491),\n",
       " (0.5957963623120055, 2680),\n",
       " (0.5486926383676383, 2834),\n",
       " (0.5396380473836403, 660),\n",
       " (0.5293505033175994, 416),\n",
       " (0.5268251635528765, 680),\n",
       " (0.5162996339456436, 3447),\n",
       " (0.515397298688398, 2781),\n",
       " (0.5102891400815143, 790),\n",
       " (0.5001491197806007, 3428),\n",
       " (0.4929472812035705, 1816),\n",
       " (0.4914445624836439, 692),\n",
       " (0.48756380000669713, 131),\n",
       " (0.48684210942709405, 1159),\n",
       " (0.45674587837763264, 1217),\n",
       " (0.45540907417568605, 1853),\n",
       " (0.45393688929077824, 981),\n",
       " (0.4536474324861029, 1799),\n",
       " (0.43579689566246577, 2988),\n",
       " (0.43177507048888975, 2606),\n",
       " (0.43044019060177896, 2771),\n",
       " (0.4297624103606225, 2455),\n",
       " (0.4295525507171003, 1981),\n",
       " (0.4287907380418286, 2722),\n",
       " (0.4199707273896906, 1779),\n",
       " (0.41591545269281854, 19),\n",
       " (0.4084324785499222, 2780),\n",
       " (0.40812096178296553, 1067),\n",
       " (0.4042034857154998, 2683),\n",
       " (0.4040469138707011, 3152),\n",
       " (0.40042560146110157, 1028),\n",
       " (0.3981515954188694, 826),\n",
       " (0.38464589028983526, 588),\n",
       " (0.38147465088928206, 627),\n",
       " (0.3771850289361845, 154),\n",
       " (0.37384469748281735, 2351),\n",
       " (0.367332320736131, 2678),\n",
       " (0.3671732270029875, 3016),\n",
       " (0.35993951750388575, 0),\n",
       " (0.35967370276499844, 1885),\n",
       " (0.34265833016423086, 1826),\n",
       " (0.3374515961606757, 2385),\n",
       " (0.3371647391165404, 3598),\n",
       " (0.33563353247217487, 136),\n",
       " (0.33354095363617825, 1695),\n",
       " (0.32563361831781795, 665),\n",
       " (0.3224469848677877, 1085),\n",
       " (0.3194837275959594, 73),\n",
       " (0.3180284758263984, 2685),\n",
       " (0.3165087876097102, 1554),\n",
       " (0.31480819925031794, 1350),\n",
       " (0.3143116432025318, 2225),\n",
       " (0.31025312484733675, 43),\n",
       " (0.30833472255389194, 1263),\n",
       " (0.30291592202435674, 3588),\n",
       " (0.3020625524276557, 2726),\n",
       " (0.3015673177312126, 121),\n",
       " (0.2949888109951584, 1671),\n",
       " (0.29406267557940324, 282),\n",
       " (0.2938867454163418, 3320),\n",
       " (0.29319214345781686, 2167),\n",
       " (0.29257136559515795, 2),\n",
       " (0.29035272299511544, 582),\n",
       " (0.289365604557561, 979),\n",
       " (0.28651050376021625, 341),\n",
       " (0.2835784487880391, 3347),\n",
       " (0.28264031635232884, 658),\n",
       " (0.28060836686814006, 1935),\n",
       " (0.27970378259167916, 1700),\n",
       " (0.2786399841890622, 3201),\n",
       " (0.27703202112305, 625),\n",
       " (0.2766810065294763, 3029),\n",
       " (0.27433759970460025, 1929),\n",
       " (0.2741359476043776, 3547),\n",
       " (0.27368204754138026, 1926),\n",
       " (0.2718301851906596, 1165),\n",
       " (0.2713752992785591, 71),\n",
       " (0.2685065484060374, 3013),\n",
       " (0.2683925002732845, 1078),\n",
       " (0.2660234585460262, 960),\n",
       " (0.26563651641305047, 2674),\n",
       " (0.26558288022031745, 395),\n",
       " (0.2637574460673181, 1659),\n",
       " (0.2630924155233453, 3425),\n",
       " (0.26257698433401294, 1205),\n",
       " (0.2612445245166082, 1750),\n",
       " (0.25955244207216993, 3404),\n",
       " (0.25824531455131433, 860),\n",
       " (0.2573369451118894, 2038),\n",
       " (0.25287282957379453, 3267),\n",
       " (0.2511718357636523, 3150),\n",
       " (0.25028314202415064, 723),\n",
       " (0.24956513735466768, 2075),\n",
       " (0.24845709898575635, 1025),\n",
       " (0.24565832211918143, 1374),\n",
       " (0.24444663871480043, 3238),\n",
       " (0.24345854902783204, 714),\n",
       " (0.24263088287913587, 3353),\n",
       " (0.23959737325461491, 3060),\n",
       " (0.2394235215359124, 1453),\n",
       " (0.23823027270447691, 2595),\n",
       " (0.236693438753923, 3537),\n",
       " (0.23523188980296525, 726),\n",
       " (0.23441224495353918, 100),\n",
       " (0.23406755548226854, 2551),\n",
       " (0.23379140860743453, 2566),\n",
       " (0.23346109278685567, 532),\n",
       " (0.22895808194923195, 3337),\n",
       " (0.22880986570599307, 353),\n",
       " (0.22841556466198992, 1383),\n",
       " (0.22709775600161022, 2691),\n",
       " (0.22652789077304958, 2436),\n",
       " (0.22627009793868919, 2753),\n",
       " (0.22507189125351754, 110),\n",
       " (0.22396460652995276, 147),\n",
       " (0.22259697920818708, 1482),\n",
       " (0.2219373321412985, 2438),\n",
       " (0.2217517877941824, 1552),\n",
       " (0.22151447958091613, 1199),\n",
       " (0.22146319716752702, 544),\n",
       " (0.2212722562573885, 3272),\n",
       " (0.22078102429608398, 2274),\n",
       " (0.21982768282476367, 2705),\n",
       " (0.21936837987103547, 718),\n",
       " (0.2193496947270397, 3299),\n",
       " (0.2193496947270397, 172),\n",
       " (0.2184497853928657, 717),\n",
       " (0.218334073907026, 1505),\n",
       " (0.2180962139737372, 3512),\n",
       " (0.21781685606599935, 322),\n",
       " (0.21760020360838064, 2913),\n",
       " (0.21692615631477352, 3551),\n",
       " (0.2167131307908954, 3102),\n",
       " (0.2167131307908954, 1541),\n",
       " (0.21606244261917687, 3014),\n",
       " (0.2156217783408291, 3127),\n",
       " (0.2155653392812619, 2677),\n",
       " (0.21528605969063352, 769),\n",
       " (0.21381680275190454, 2108),\n",
       " (0.21380867386959615, 263),\n",
       " (0.21321096536076664, 1307),\n",
       " (0.2124430259975174, 3061),\n",
       " (0.21224270498780334, 206),\n",
       " (0.21202778293074745, 192),\n",
       " (0.21201290684914603, 1949),\n",
       " (0.21145270517927034, 1762),\n",
       " (0.21114972847304275, 1455),\n",
       " (0.21083036354582635, 2186),\n",
       " (0.21051142044700785, 3384),\n",
       " (0.21001347415099242, 3286),\n",
       " (0.2099804053614664, 68),\n",
       " (0.20967616965410357, 235),\n",
       " (0.20825104637591194, 1768),\n",
       " (0.20760478979685315, 3390),\n",
       " (0.2074031558988704, 3088),\n",
       " (0.20556807206875818, 3414),\n",
       " (0.20234144193644174, 3555),\n",
       " (0.2018656714571112, 2371),\n",
       " (0.20164617723930614, 51),\n",
       " (0.19929383346501212, 1721),\n",
       " (0.1990149202138041, 1010),\n",
       " (0.1989603918213942, 3432),\n",
       " (0.19894547087204073, 340),\n",
       " (0.19839781641856194, 3002),\n",
       " (0.1981317557501906, 3274),\n",
       " (0.1966951722367976, 623),\n",
       " (0.19660389823049113, 2016),\n",
       " (0.1958118314661533, 2168),\n",
       " (0.19505097638548374, 1886),\n",
       " (0.1945003983255703, 1147),\n",
       " (0.19426488558460306, 3408),\n",
       " (0.19403487720548504, 1523),\n",
       " (0.19371889849533555, 356),\n",
       " (0.19358226372345388, 1917),\n",
       " (0.19334929562068714, 3057),\n",
       " (0.1931176948384022, 2804),\n",
       " (0.19291083167167614, 2180),\n",
       " (0.19105979566738462, 3359),\n",
       " (0.19038712527647175, 40),\n",
       " (0.19025428348723156, 839),\n",
       " (0.19004592638299578, 278),\n",
       " (0.18967911858230344, 2965),\n",
       " (0.1892532697410779, 3339),\n",
       " (0.18906755452359378, 1961),\n",
       " (0.18888996868423133, 1432),\n",
       " (0.1878134801799102, 1278),\n",
       " (0.1875977663344029, 1550),\n",
       " (0.1869393811048611, 3549),\n",
       " (0.18646136952675632, 2200),\n",
       " (0.18617798946763775, 1249),\n",
       " (0.18545273365532502, 1386),\n",
       " (0.1846596617041316, 2331),\n",
       " (0.18448194605435822, 3283),\n",
       " (0.18359704376005423, 773),\n",
       " (0.18341863298488403, 2748),\n",
       " (0.18265890303695442, 1291),\n",
       " (0.18243752629350393, 3370),\n",
       " (0.18243752629350393, 663),\n",
       " (0.18242433015171347, 791),\n",
       " (0.18221035881128547, 1960),\n",
       " (0.18170817590567348, 2088),\n",
       " (0.1816564960514, 281),\n",
       " (0.18136983329265982, 3486),\n",
       " (0.18105293360540597, 109),\n",
       " (0.1809803538967947, 3369),\n",
       " (0.1798579854466378, 2080),\n",
       " (0.17956847966930384, 3034),\n",
       " (0.1795599099391392, 3250),\n",
       " (0.17891844051459602, 2033),\n",
       " (0.1788986202595499, 2764),\n",
       " (0.17879595150453062, 1442),\n",
       " (0.1783851273283, 1758),\n",
       " (0.17690299960811542, 1918),\n",
       " (0.17677142101243276, 801),\n",
       " (0.1767285112565217, 2141),\n",
       " (0.17659448012000467, 304),\n",
       " (0.17647989044490967, 3516),\n",
       " (0.17634068214069432, 3297),\n",
       " (0.17608186054158145, 2070),\n",
       " (0.17576526782661275, 1030),\n",
       " (0.1751550262790678, 2622),\n",
       " (0.1749737604394968, 3410),\n",
       " (0.17410214749925307, 2759),\n",
       " (0.1740725707949411, 3271),\n",
       " (0.1740725707949411, 2607),\n",
       " (0.1740725707949411, 2465),\n",
       " (0.1740725707949411, 2398),\n",
       " (0.1740725707949411, 571),\n",
       " (0.17311325469340602, 2742),\n",
       " (0.17276920148824157, 321),\n",
       " (0.1725606746577813, 1452),\n",
       " (0.17159599314441507, 903),\n",
       " (0.171032338043187, 47),\n",
       " (0.1692531558985891, 2350),\n",
       " (0.16920767999211647, 423),\n",
       " (0.16859758781541692, 489),\n",
       " (0.1685895331301071, 440),\n",
       " (0.16749119686465144, 2042),\n",
       " (0.167025799199416, 382),\n",
       " (0.16700101352781155, 667),\n",
       " (0.1661053959104318, 286),\n",
       " (0.16507120766930344, 2003),\n",
       " (0.16429698469550058, 1120),\n",
       " (0.16331700479491107, 2188),\n",
       " (0.16331700479491107, 2018),\n",
       " (0.16331390385034894, 2793),\n",
       " (0.16300508910149647, 916),\n",
       " (0.16282275467452148, 1843),\n",
       " (0.16247247348165242, 1359),\n",
       " (0.16187590376767594, 3395),\n",
       " (0.1613051938747129, 2975),\n",
       " (0.16025844697165065, 669),\n",
       " (0.16013102293033513, 1953),\n",
       " (0.15974829036105057, 996),\n",
       " (0.15968247106389244, 2767),\n",
       " (0.1595935294251936, 259),\n",
       " (0.15880675549174347, 1602),\n",
       " (0.1587439552243165, 935),\n",
       " (0.15869391556965143, 93),\n",
       " (0.1586659248911419, 2581),\n",
       " (0.15842096948259002, 2258),\n",
       " (0.15836742047722766, 2787),\n",
       " (0.1579126605785486, 3058),\n",
       " (0.15765558962932028, 2271),\n",
       " (0.15732721123058058, 1292),\n",
       " (0.15722879615475854, 720),\n",
       " (0.15694585991437587, 3037),\n",
       " (0.15656300302039525, 1910),\n",
       " (0.15653431345464616, 748),\n",
       " (0.15647025349331029, 1485),\n",
       " (0.15608611875065803, 1451),\n",
       " (0.1557966797089763, 1348),\n",
       " (0.15540520631625535, 1326),\n",
       " (0.15497200467696245, 2047),\n",
       " (0.15452615455169147, 543),\n",
       " (0.15419835110162175, 3164),\n",
       " (0.15419835110162175, 683),\n",
       " (0.15398732387186229, 3162),\n",
       " (0.15384886271448064, 888),\n",
       " (0.15360713935765766, 3208),\n",
       " (0.15298690219214509, 1593),\n",
       " (0.15275270485680384, 2386),\n",
       " (0.1524030891703565, 991),\n",
       " (0.151621197000685, 612),\n",
       " (0.15129785599666357, 939),\n",
       " (0.15094776923710645, 2895),\n",
       " (0.15094776923710645, 2425),\n",
       " (0.14962944016742355, 2216),\n",
       " (0.14904033568007538, 290),\n",
       " (0.1486419531495219, 2794),\n",
       " (0.14850839119289216, 2940),\n",
       " (0.14824979715450434, 2013),\n",
       " (0.14749451289822035, 83),\n",
       " (0.14740870042343307, 1805),\n",
       " (0.14710629342492257, 3189),\n",
       " (0.1468532386313502, 937),\n",
       " (0.14658634943466398, 2146),\n",
       " (0.14653848161636449, 1053),\n",
       " (0.14652908216269703, 3356),\n",
       " (0.14646676357633243, 1319),\n",
       " (0.14646676357633243, 987),\n",
       " (0.146232204378051, 1709),\n",
       " (0.14596163518975866, 589),\n",
       " (0.1459461373107283, 2170),\n",
       " (0.14593333900583294, 2956),\n",
       " (0.1456575089375777, 176),\n",
       " (0.14544378809072758, 74),\n",
       " (0.1452359825672161, 393),\n",
       " (0.1449071005439063, 971),\n",
       " (0.14459417700731622, 2897),\n",
       " (0.14350723295592674, 349),\n",
       " (0.14350723295592674, 81),\n",
       " (0.1434261498209933, 237),\n",
       " (0.14334431387987334, 989),\n",
       " (0.14333871647641, 2497),\n",
       " (0.14275978612267637, 1891),\n",
       " (0.14274532098406997, 453),\n",
       " (0.14267158693294138, 2462),\n",
       " (0.14241007268476305, 2792),\n",
       " (0.14239906559751997, 2191),\n",
       " (0.14172778883838677, 2148),\n",
       " (0.14078125131967822, 283),\n",
       " (0.1406282886456704, 311),\n",
       " (0.1404211232725974, 2864),\n",
       " (0.1404033144394981, 2150),\n",
       " (0.1403650361513153, 910),\n",
       " (0.14030418343407003, 1253),\n",
       " (0.14030418343407003, 30),\n",
       " (0.14025674738812677, 2525),\n",
       " (0.14016656541169253, 179),\n",
       " (0.14011839714622298, 1796),\n",
       " (0.13995369350695974, 3125),\n",
       " (0.1390466886476543, 1530),\n",
       " (0.13874050516494102, 1938),\n",
       " (0.13855961822894952, 1440),\n",
       " (0.13854211379463546, 1239),\n",
       " (0.1382595473882022, 1614),\n",
       " (0.13823477220476113, 2708),\n",
       " (0.13774615167845616, 2411),\n",
       " (0.13747373989422332, 3366),\n",
       " (0.1374181381097756, 2475),\n",
       " (0.1363870195228603, 1),\n",
       " (0.1363312848181002, 561),\n",
       " (0.1358404957999536, 852),\n",
       " (0.13575081367693947, 961),\n",
       " (0.13573573877465958, 1106),\n",
       " (0.13573044448025134, 1740),\n",
       " (0.13570313559786057, 326),\n",
       " (0.1350442509329555, 1301),\n",
       " (0.13449235053930567, 3434),\n",
       " (0.13426801036692035, 12),\n",
       " (0.13419735575739455, 2267),\n",
       " (0.1341319722405504, 817),\n",
       " (0.13320354806638213, 2844),\n",
       " (0.1329368807186553, 843),\n",
       " (0.13293254436624816, 1781),\n",
       " (0.13272708641014708, 1616),\n",
       " (0.13272708641014708, 818),\n",
       " (0.1323503422236895, 3567),\n",
       " (0.13192012478547538, 3476),\n",
       " (0.13192012478547538, 1112),\n",
       " (0.1317896359805311, 3426),\n",
       " (0.13167562685657738, 2605),\n",
       " (0.13166726335215084, 1557),\n",
       " (0.13160015043919893, 3581),\n",
       " (0.13160015043919893, 2488),\n",
       " (0.13160015043919893, 2094),\n",
       " (0.13135473832008868, 2972),\n",
       " (0.13031729072402887, 1746),\n",
       " (0.1298848749983803, 1172),\n",
       " (0.12973246724796844, 2573),\n",
       " (0.1296971052433702, 2969),\n",
       " (0.1296971052433702, 767),\n",
       " (0.12939057276309673, 1795),\n",
       " (0.12938453024897786, 1715),\n",
       " (0.1293345450370743, 1728),\n",
       " (0.12893653790228876, 3027),\n",
       " (0.12867150979878936, 1921),\n",
       " (0.12860870968792643, 2078),\n",
       " (0.12810442768317534, 1739),\n",
       " (0.12805439958035295, 3026),\n",
       " (0.1278779808209269, 3442),\n",
       " (0.12780007554324171, 618),\n",
       " (0.12735321130110458, 3552),\n",
       " (0.12693382684487226, 1283),\n",
       " (0.12693382684487226, 774),\n",
       " (0.12681663696770332, 2618),\n",
       " (0.1267241604496154, 2421),\n",
       " (0.1267241604496154, 2166),\n",
       " (0.12564078640260584, 347),\n",
       " (0.1253695646867712, 855),\n",
       " (0.1253512794237119, 2523),\n",
       " (0.12484293651117717, 3015),\n",
       " (0.12446046957444332, 3561),\n",
       " (0.12438503356051697, 2220),\n",
       " (0.12428431698758667, 2335),\n",
       " (0.12428431698758667, 1051),\n",
       " (0.12412174441056321, 1621),\n",
       " (0.1235984504929054, 1506),\n",
       " (0.12312446033672601, 872),\n",
       " (0.1228540584502789, 375),\n",
       " (0.1221851096028742, 1321),\n",
       " (0.12212076174130916, 3121),\n",
       " (0.12191095229953879, 1092),\n",
       " (0.12191095229953879, 122),\n",
       " (0.12178744304758916, 1060),\n",
       " (0.12155319948980124, 3577),\n",
       " (0.12128424197829853, 3508),\n",
       " (0.12125712391650043, 806),\n",
       " (0.12094559865788806, 2298),\n",
       " (0.12081130224026827, 2171),\n",
       " (0.12081130224026827, 703),\n",
       " (0.12081130224026827, 379),\n",
       " (0.12066679140497528, 519),\n",
       " (0.12053482818464885, 671),\n",
       " (0.12016451781173342, 3518),\n",
       " (0.11957468357601173, 3168),\n",
       " (0.11957468357601173, 2632),\n",
       " (0.11930669990535478, 3309),\n",
       " (0.11907549449107033, 3593),\n",
       " (0.11907309519569546, 3513),\n",
       " (0.11907309519569546, 3143),\n",
       " (0.11907309519569546, 401),\n",
       " (0.11900817960475606, 271),\n",
       " (0.11899208138806623, 2869),\n",
       " (0.11895958968877149, 1539),\n",
       " (0.11880440997267708, 3435),\n",
       " (0.11849763128788413, 2546),\n",
       " (0.11809597331801083, 2911),\n",
       " (0.11809597331801083, 2862),\n",
       " (0.11806555686548152, 3262),\n",
       " (0.11806555686548152, 2036),\n",
       " (0.11755582720566767, 2824),\n",
       " (0.1158635500136846, 3412),\n",
       " (0.1158635500136846, 1690),\n",
       " (0.1158635500136846, 867),\n",
       " (0.1158635500136846, 182),\n",
       " (0.11460496150720463, 59),\n",
       " (0.11457215302554612, 758),\n",
       " (0.1145204810116676, 284),\n",
       " (0.11437158955438233, 2899),\n",
       " (0.11437158955438233, 415),\n",
       " (0.1142137025844636, 2533),\n",
       " (0.11402351764493411, 814),\n",
       " (0.11398329625091098, 400),\n",
       " (0.11398004111441178, 2062),\n",
       " (0.11388712615281077, 457),\n",
       " (0.11380483755755394, 825),\n",
       " (0.11376257728774307, 2953),\n",
       " (0.11374483910338773, 2496),\n",
       " (0.11363061333793037, 3427),\n",
       " (0.11363061333793037, 390),\n",
       " (0.11331142513554919, 217),\n",
       " (0.11323824243411869, 2848),\n",
       " (0.11269570106913034, 2158),\n",
       " (0.11260561285741834, 1553),\n",
       " (0.11170726385475563, 2594),\n",
       " (0.11146074951366218, 2765),\n",
       " (0.11143204200991574, 2303),\n",
       " (0.1112135704443393, 337),\n",
       " (0.1112135704443393, 272),\n",
       " (0.11096001854374073, 3089),\n",
       " (0.11095263793825426, 2613),\n",
       " (0.11095263793825426, 1406),\n",
       " (0.11095263793825426, 970),\n",
       " (0.1108758938970912, 2315),\n",
       " (0.1108758938970912, 425),\n",
       " (0.11072422457342573, 3558),\n",
       " (0.11072422457342573, 3419),\n",
       " (0.11072422457342573, 2608),\n",
       " (0.11072422457342573, 2598),\n",
       " (0.11060675699993266, 2426),\n",
       " (0.11022343631120256, 2457),\n",
       " (0.11015920452585919, 2051),\n",
       " (0.11015920452585919, 1725),\n",
       " (0.11015920452585919, 1684),\n",
       " (0.11015920452585919, 95),\n",
       " (0.11010581079286666, 3067),\n",
       " (0.10998171923083667, 1612),\n",
       " (0.10998171923083667, 266),\n",
       " (0.10988929327193307, 1483),\n",
       " (0.10968349322053744, 3423),\n",
       " (0.10968349322053744, 1945),\n",
       " (0.10968349322053744, 1095),\n",
       " (0.10946316414746819, 2832),\n",
       " (0.10904792082179439, 2456),\n",
       " (0.10904792082179439, 493),\n",
       " (0.10904792082179439, 146),\n",
       " (0.10885202678651063, 2971),\n",
       " (0.10857373462948669, 1073),\n",
       " (0.10811028544693015, 1991),\n",
       " (0.10799243844561637, 2085),\n",
       " (0.10794562030046964, 1743),\n",
       " (0.10773901543501041, 267),\n",
       " (0.10712091911923527, 3445),\n",
       " (0.106820464219399, 741),\n",
       " (0.106820464219399, 140),\n",
       " (0.10675298330383284, 159),\n",
       " (0.10618581865111702, 2165),\n",
       " (0.10618581865111702, 498),\n",
       " (0.10618581865111702, 432),\n",
       " (0.10605425200156693, 3430),\n",
       " (0.10605425200156693, 2948),\n",
       " (0.10605425200156693, 857),\n",
       " (0.10605425200156693, 346),\n",
       " (0.10605425200156693, 265),\n",
       " (0.10557486423652138, 2766),\n",
       " (0.10557486423652138, 822),\n",
       " (0.10534575807425911, 2491),\n",
       " (0.10519179459973899, 2676),\n",
       " (0.10496503453539865, 479),\n",
       " (0.10473498183402757, 1562),\n",
       " (0.10457183285346207, 472),\n",
       " (0.10425444516416418, 1465),\n",
       " (0.10425423248252984, 2709),\n",
       " (0.1042180612004698, 1676),\n",
       " (0.10403053110147295, 1798),\n",
       " (0.10402403410001056, 2823),\n",
       " (0.10402403410001056, 2501),\n",
       " (0.10396990817982857, 3504),\n",
       " (0.10396990817982857, 942),\n",
       " (0.10388368558329734, 751),\n",
       " (0.10368637066103768, 2250),\n",
       " (0.10368637066103768, 730),\n",
       " (0.10276872872705299, 2719),\n",
       " (0.10276872872705299, 2459),\n",
       " (0.10247708643417391, 2961),\n",
       " (0.1024231846229235, 1339),\n",
       " (0.10236183219704428, 3277),\n",
       " (0.10232708110688796, 735),\n",
       " (0.10228458667189502, 3198),\n",
       " (0.10228458667189502, 2962),\n",
       " (0.10228458667189502, 995),\n",
       " (0.10136053789274621, 2304),\n",
       " (0.10134976554256994, 2688),\n",
       " (0.10134976554256994, 1636),\n",
       " (0.10134976554256994, 1337),\n",
       " (0.10134976554256994, 1324),\n",
       " (0.10134976554256994, 707),\n",
       " (0.10113968833233408, 765),\n",
       " (0.10069601186190276, 1939),\n",
       " (0.10064515702280895, 3344),\n",
       " (0.10064515702280895, 2173),\n",
       " (0.10064515702280895, 1138),\n",
       " (0.10064515702280895, 461),\n",
       " (0.10064515702280895, 34),\n",
       " (0.10042325887796412, 300),\n",
       " (0.1002957575314065, 1989),\n",
       " (0.09998749056664377, 3107),\n",
       " (0.09930697078845706, 2221),\n",
       " (0.09914935926854873, 244),\n",
       " (0.09876693398963941, 3078),\n",
       " (0.09876693398963941, 2164),\n",
       " (0.09836837816997854, 3315),\n",
       " (0.09836837816997854, 875),\n",
       " (0.09817944238454095, 2699),\n",
       " (0.09794705270385747, 1027),\n",
       " (0.09753994524416922, 2587),\n",
       " (0.09753994524416922, 2077),\n",
       " (0.09748748613843083, 332),\n",
       " (0.09735701024742208, 2396),\n",
       " (0.09725019916278516, 258),\n",
       " (0.09699466636036944, 1546),\n",
       " (0.09699466636036944, 1335),\n",
       " (0.09688153971550674, 2907),\n",
       " (0.09686500832458753, 777),\n",
       " (0.09686052023444106, 135),\n",
       " (0.09673046950545754, 1444),\n",
       " (0.09673046950545754, 715),\n",
       " (0.09661595034015596, 446),\n",
       " (0.0965377258329081, 3207),\n",
       " (0.0965377258329081, 2138),\n",
       " (0.09626960058032394, 3120),\n",
       " (0.09618513758438473, 3515),\n",
       " (0.09565542764095197, 2863),\n",
       " (0.09565542764095197, 894),\n",
       " (0.09547947763468338, 2162),\n",
       " (0.09531096377076569, 702),\n",
       " (0.09528243773263785, 1974),\n",
       " (0.09509363527560925, 3003),\n",
       " (0.09498866156805091, 56),\n",
       " (0.09474781428844514, 684),\n",
       " (0.09470186479356586, 3105),\n",
       " (0.09428309184464959, 451),\n",
       " (0.09415396440857329, 2308),\n",
       " (0.09415396440857329, 1642),\n",
       " (0.09405941869361337, 1670),\n",
       " (0.0936129038163648, 3167),\n",
       " (0.0936129038163648, 2182),\n",
       " (0.09355616462549207, 3035),\n",
       " (0.09355616462549207, 1896),\n",
       " (0.09355616462549207, 1184),\n",
       " (0.09341909409291495, 3072),\n",
       " (0.09337462696070654, 438),\n",
       " (0.0929626714246364, 1603),\n",
       " (0.09284589134311069, 2710),\n",
       " (0.09284589134311069, 1213),\n",
       " (0.09284154955685536, 1371),\n",
       " (0.09266999833156661, 406),\n",
       " (0.09207228230404424, 1163),\n",
       " (0.09205966214580999, 2997),\n",
       " (0.09178619545179538, 2752),\n",
       " (0.09143824914038055, 3064),\n",
       " (0.091187581907555, 601),\n",
       " (0.09041028635150161, 1752),\n",
       " (0.09041028635150161, 518),\n",
       " (0.08994784131054857, 1626),\n",
       " (0.0899289927233189, 1381),\n",
       " (0.0899289927233189, 274),\n",
       " (0.08950278802783464, 749),\n",
       " (0.08922252170461645, 234),\n",
       " (0.08893701129431317, 1801),\n",
       " (0.08888778897986298, 377),\n",
       " (0.08850344945738366, 3461),\n",
       " (0.08850344945738366, 1488),\n",
       " (0.08829971029325995, 674),\n",
       " (0.08820524746883318, 3011),\n",
       " (0.08820524746883318, 946),\n",
       " (0.08820524746883318, 693),\n",
       " (0.08817034107034716, 2919),\n",
       " (0.08817034107034716, 1007),\n",
       " (0.08817034107034716, 421),\n",
       " (0.08804345721280434, 1361),\n",
       " (0.08804345721280434, 383),\n",
       " (0.08762934372453221, 2228),\n",
       " (0.08757617301522158, 2408),\n",
       " (0.0874396129348227, 1848),\n",
       " (0.08723026371545585, 1439),\n",
       " (0.08711481957056835, 1181),\n",
       " (0.08702300996955853, 2415),\n",
       " (0.08665193755012388, 3381),\n",
       " (0.08665193755012388, 2287),\n",
       " (0.08665193755012388, 1836),\n",
       " (0.08665193755012388, 1769),\n",
       " (0.08613066304157802, 1118),\n",
       " (0.08604351125758435, 2905),\n",
       " (0.08604351125758435, 569),\n",
       " (0.0854845498493779, 3179),\n",
       " (0.0854845498493779, 2648),\n",
       " (0.0854845498493779, 230),\n",
       " (0.08517458870224577, 3048),\n",
       " (0.08517458870224577, 1994),\n",
       " (0.08517458870224577, 1204),\n",
       " (0.08470981595256992, 2515),\n",
       " (0.08462148604526212, 2429),\n",
       " (0.08426216025542996, 153),\n",
       " (0.08396067945350465, 1744),\n",
       " (0.08395033773740967, 1591),\n",
       " (0.08392814428727821, 2027),\n",
       " (0.08382123724955293, 2749),\n",
       " (0.08382123724955293, 2473),\n",
       " (0.08382123724955293, 1409),\n",
       " (0.08382123724955293, 1124),\n",
       " (0.08353088199290905, 444),\n",
       " (0.08317371353393369, 2642),\n",
       " (0.08309673441860337, 3111),\n",
       " (0.08309673441860337, 245),\n",
       " (0.08292925047434146, 3259),\n",
       " (0.08292925047434146, 1302),\n",
       " (0.08292925047434146, 293),\n",
       " (0.08291617096613417, 3140),\n",
       " (0.08269105630936235, 2901),\n",
       " (0.08250700752808858, 696),\n",
       " (0.08240929260535937, 1716),\n",
       " (0.08211436632233017, 3529),\n",
       " (0.08211436632233017, 3213),\n",
       " (0.08211436632233017, 2127),\n",
       " (0.08211436632233017, 1525),\n",
       " (0.08211436632233017, 1126),\n",
       " (0.0817747689523181, 2994),\n",
       " (0.0817747689523181, 2993),\n",
       " (0.0817747689523181, 2917),\n",
       " (0.0817747689523181, 1711),\n",
       " (0.0817747689523181, 1304),\n",
       " (0.08151167856717134, 2198),\n",
       " (0.08151167856717134, 945),\n",
       " (0.08151167856717134, 566),\n",
       " (0.08129217091740701, 2998),\n",
       " (0.08105200153726203, 2484),\n",
       " (0.0807700369476078, 3076),\n",
       " (0.08068784324894641, 2360),\n",
       " (0.08068159929883513, 721),\n",
       " (0.08061100817847924, 2096),\n",
       " (0.08061100817847924, 1080),\n",
       " (0.08061100817847924, 892),\n",
       " (0.08061100817847924, 116),\n",
       " (0.08054857135944755, 3284),\n",
       " (0.08054857135944755, 2821),\n",
       " (0.08054857135944755, 1143),\n",
       " (0.08054857135944755, 963),\n",
       " (0.08054857135944755, 208),\n",
       " (0.08035021335850029, 1330),\n",
       " (0.08000278922985744, 592),\n",
       " (0.07992964611435342, 2480),\n",
       " (0.0798439548818006, 466),\n",
       " (0.07967648486597263, 3460),\n",
       " (0.07942048197153924, 1248),\n",
       " (0.07942048197153924, 800),\n",
       " (0.07936184382084924, 103),\n",
       " (0.07934695778482571, 1594),\n",
       " (0.07909247792452866, 2836),\n",
       " (0.07878339653169947, 921),\n",
       " (0.07872352699109667, 1427),\n",
       " (0.07832911303100598, 1274),\n",
       " (0.07826986945258209, 2529),\n",
       " (0.07826986945258209, 548),\n",
       " (0.07812731180375962, 2757),\n",
       " (0.07782256783754221, 1394),\n",
       " (0.07772413797438453, 1563),\n",
       " (0.07766772436818778, 1770),\n",
       " (0.07766772436818778, 431),\n",
       " (0.07763906076073131, 1969),\n",
       " (0.07750076957730181, 3443),\n",
       " (0.07750076957730181, 1597),\n",
       " (0.07750076957730181, 141),\n",
       " (0.07725627254289316, 3181),\n",
       " (0.07725627254289316, 2217),\n",
       " (0.07709690524884416, 3431),\n",
       " (0.07709690524884416, 2482),\n",
       " (0.07699366193593114, 2735),\n",
       " (0.07693194384154352, 2157),\n",
       " (0.07693194384154352, 1677),\n",
       " (0.07675730092547893, 909),\n",
       " (0.07667082959004153, 1219),\n",
       " (0.07608187763041155, 2026),\n",
       " (0.07602294882487319, 863),\n",
       " (0.07600285375632602, 1002),\n",
       " (0.07591816977858186, 3454),\n",
       " (0.07577029842086451, 1864),\n",
       " (0.07564976198948455, 2629),\n",
       " (0.07563006827415941, 2876),\n",
       " (0.07547340262818439, 1306),\n",
       " (0.07523752970018145, 893),\n",
       " (0.07523752970018145, 482),\n",
       " (0.07514147802049714, 2773),\n",
       " (0.07506743730551604, 4),\n",
       " (0.0749639860069351, 646),\n",
       " (0.07488884792464617, 3539),\n",
       " (0.07488884792464617, 388),\n",
       " (0.07470692889125977, 3114),\n",
       " (0.07470692889125977, 759),\n",
       " (0.07436171988469885, 1298),\n",
       " (0.07401855876239287, 88),\n",
       " (0.0739339167548025, 2052),\n",
       " (0.0739339167548025, 954),\n",
       " (0.0739339167548025, 812),\n",
       " (0.07355314671246128, 1316),\n",
       " (0.073310219168929, 3270),\n",
       " (0.07327690911717218, 107),\n",
       " (0.07291562786035619, 2417),\n",
       " (0.0728684083665527, 1962),\n",
       " (0.07280881447765751, 1759),\n",
       " (0.0727652146198062, 619),\n",
       " (0.0724709011008796, 477),\n",
       " (0.07229078508957917, 590),\n",
       " (0.07137989306133818, 2435),\n",
       " (0.0712109631303674, 209),\n",
       " (0.0711621604468216, 3338),\n",
       " (0.0710608011104819, 3199),\n",
       " (0.07093515542997687, 3303),\n",
       " (0.07093515542997687, 1008),\n",
       " (0.07093515542997687, 805),\n",
       " (0.0706429828689179, 2022),\n",
       " (0.07050951911510892, 1033),\n",
       " (0.06999901722433255, 2035),\n",
       " (0.06983294154740266, 1128),\n",
       " (0.06977993867564151, 3210),\n",
       " (0.06969183120786247, 986),\n",
       " (0.0695574579202441, 3453),\n",
       " (0.06927229373883932, 404),\n",
       " (0.06901888758929044, 2352),\n",
       " (0.06901888758929044, 2061),\n",
       " (0.06901888758929044, 1526),\n",
       " (0.06901888758929044, 21),\n",
       " (0.06830194446478274, 1503),\n",
       " (0.06828111020089077, 2740),\n",
       " (0.06828111020089077, 2736),\n",
       " (0.06828111020089077, 1943),\n",
       " (0.06828111020089077, 1847),\n",
       " (0.06828111020089077, 1180),\n",
       " (0.06828111020089077, 829),\n",
       " (0.0682032266181214, 3248),\n",
       " (0.0682032266181214, 1619),\n",
       " (0.0682032266181214, 1257),\n",
       " (0.0682032266181214, 876),\n",
       " (0.06805916422035017, 2918),\n",
       " (0.06805916422035017, 2293),\n",
       " (0.06805916422035017, 1544),\n",
       " (0.06785022063152464, 3503),\n",
       " (0.06780627218311859, 2556),\n",
       " (0.06771935959217608, 2541),\n",
       " (0.06770398717597208, 3364),\n",
       " (0.06770398717597208, 3119),\n",
       " (0.06770398717597208, 3075),\n",
       " (0.06770398717597208, 859),\n",
       " (0.06770398717597208, 450),\n",
       " (0.06754168403023174, 264),\n",
       " (0.06694966279504407, 2806),\n",
       " (0.06694966279504407, 2369),\n",
       " (0.06694966279504407, 1832),\n",
       " (0.06669378295200436, 2082),\n",
       " (0.06648844683125392, 771),\n",
       " (0.06645518694941502, 3251),\n",
       " (0.06645518694941502, 1252),\n",
       " (0.06645518694941502, 1117),\n",
       " (0.06645292906426767, 3041),\n",
       " (0.06645292906426767, 2564),\n",
       " (0.06645292906426767, 2259),\n",
       " (0.06645292906426767, 2059),\n",
       " (0.06645292906426767, 2014),\n",
       " (0.06645292906426767, 1579),\n",
       " (0.06645292906426767, 842),\n",
       " (0.06645292906426767, 815),\n",
       " (0.06645292906426767, 526),\n",
       " (0.06626802899587073, 2797),\n",
       " (0.06584406166184281, 435),\n",
       " (0.06571699962537707, 1194),\n",
       " (0.06559989448715317, 2356),\n",
       " (0.06550315699822876, 396),\n",
       " (0.06412191076896116, 2260),\n",
       " (0.06412191076896116, 1894),\n",
       " (0.06409990552638614, 2246),\n",
       " (0.06396406009757605, 1625),\n",
       " (0.06298823981317425, 3594),\n",
       " (0.0627214014021143, 1565),\n",
       " (0.0627214014021143, 1513),\n",
       " (0.0627214014021143, 232),\n",
       " (0.0627214014021143, 18),\n",
       " (0.06271927037627346, 308),\n",
       " (0.06251092516187162, 725),\n",
       " (0.06215099265648753, 333),\n",
       " (0.061604560505147996, 2530),\n",
       " (0.06152215539240399, 3313),\n",
       " (0.06152215539240399, 3223),\n",
       " (0.06152215539240399, 556),\n",
       " (0.061201092717504, 2599),\n",
       " (0.061201092717504, 52),\n",
       " (0.06082288306967431, 2093),\n",
       " (0.06077659974490062, 3305),\n",
       " (0.06077659974490062, 2880),\n",
       " (0.06077659974490062, 2859),\n",
       " (0.06077659974490062, 1627),\n",
       " (0.06077659974490062, 1024),\n",
       " (0.06077659974490062, 657),\n",
       " (0.060615273213407976, 3184),\n",
       " (0.060615273213407976, 3031),\n",
       " (0.060615273213407976, 2944),\n",
       " (0.060615273213407976, 2647),\n",
       " (0.060615273213407976, 2528),\n",
       " (0.060615273213407976, 2261),\n",
       " (0.060615273213407976, 1269),\n",
       " (0.060615273213407976, 1109),\n",
       " (0.060615273213407976, 554),\n",
       " (0.0605113418129937, 10),\n",
       " (0.06025557611898252, 1538),\n",
       " (0.06025557611898252, 1129),\n",
       " (0.06013641813402834, 1131),\n",
       " (0.05999262335652933, 3149),\n",
       " (0.05999262335652933, 2846),\n",
       " (0.05999262335652933, 2624),\n",
       " (0.05999262335652933, 2461),\n",
       " (0.05999262335652933, 2359),\n",
       " (0.05999262335652933, 2279),\n",
       " (0.05999262335652933, 1069),\n",
       " (0.05999262335652933, 364),\n",
       " (0.05927023626041682, 1617),\n",
       " (0.059123169887753284, 3187),\n",
       " (0.05877791360283383, 3455),\n",
       " (0.05877791360283383, 1392),\n",
       " (0.05877791360283383, 704),\n",
       " (0.05826465255311858, 1835),\n",
       " (0.05826465255311858, 516),\n",
       " (0.058202389031082595, 189),\n",
       " (0.05790138179416366, 1342),\n",
       " (0.05763974687012357, 761),\n",
       " (0.05736186569390285, 480),\n",
       " (0.05724320662088984, 2239),\n",
       " (0.05724320662088984, 1734),\n",
       " (0.057209603295690616, 2809),\n",
       " (0.057209603295690616, 2057),\n",
       " (0.057209603295690616, 1691),\n",
       " (0.056640404156941264, 2029),\n",
       " (0.05662193702915852, 3379),\n",
       " (0.05662193702915852, 1774),\n",
       " (0.05642788652354912, 3062),\n",
       " (0.05585377136752869, 2619),\n",
       " (0.055764170021559256, 2951),\n",
       " (0.055764170021559256, 2224),\n",
       " (0.055764170021559256, 1026),\n",
       " (0.055764170021559256, 57),\n",
       " (0.05547547575885028, 2585),\n",
       " (0.05543505450440294, 1850),\n",
       " (0.05543505450440294, 1097),\n",
       " (0.05543505450440294, 807),\n",
       " (0.05502062125426618, 1600),\n",
       " (0.054991052287921414, 2650),\n",
       " (0.05493907332775763, 165),\n",
       " (0.05493907332775763, 45),\n",
       " (0.054863416369423226, 8),\n",
       " (0.05479324203445415, 276),\n",
       " (0.054026996308744926, 2193),\n",
       " (0.054026996308744926, 42),\n",
       " (0.05370254799315958, 1877),\n",
       " (0.05305980956943214, 3295),\n",
       " (0.05305980956943214, 3005),\n",
       " (0.05293101100444885, 1923),\n",
       " (0.05292864156660286, 2811),\n",
       " (0.05291896662863871, 1317),\n",
       " (0.05289788847627661, 2222),\n",
       " (0.05268951274578193, 1090),\n",
       " (0.052668395936392914, 3362),\n",
       " (0.052668395936392914, 1476),\n",
       " (0.052631059400078256, 1417),\n",
       " (0.05259054089966625, 1818),\n",
       " (0.05232043524255481, 1620),\n",
       " (0.05232043524255481, 497),\n",
       " (0.05194868290767974, 487),\n",
       " (0.051838161855689624, 1005),\n",
       " (0.05170169366608982, 2136),\n",
       " (0.05170169366608982, 700),\n",
       " (0.05170169366608982, 565),\n",
       " (0.05138757211673677, 3417),\n",
       " (0.05090385531872281, 2233),\n",
       " (0.050859710692914145, 1162),\n",
       " (0.05045339815248313, 1901),\n",
       " (0.05040808203708431, 94),\n",
       " (0.05033746451820642, 106),\n",
       " (0.05017128862015282, 1966),\n",
       " (0.05012558519824003, 3575),\n",
       " (0.05011057770801282, 1977),\n",
       " (0.04997505051609791, 1260),\n",
       " (0.0495782352257081, 1653),\n",
       " (0.049486725133227855, 2666),\n",
       " (0.04939479567119576, 705),\n",
       " (0.049026286011909816, 3298),\n",
       " (0.04882517448802302, 629),\n",
       " (0.04879683333173613, 2472),\n",
       " (0.04879683333173613, 1775),\n",
       " (0.04879683333173613, 494),\n",
       " (0.048468170684040586, 1595),\n",
       " (0.0481790426349058, 2361),\n",
       " (0.04785381019455734, 3017),\n",
       " (0.04778438162905381, 1857),\n",
       " (0.04774993717901797, 3326),\n",
       " (0.04774993717901797, 3227),\n",
       " (0.04774993717901797, 2305),\n",
       " (0.04774993717901797, 2156),\n",
       " (0.04725047923528366, 1489),\n",
       " (0.04673580212471321, 1988),\n",
       " (0.04668402365113107, 1903),\n",
       " (0.045733123711015046, 3361),\n",
       " (0.045733123711015046, 676),\n",
       " (0.045205143175750806, 3510),\n",
       " (0.045205143175750806, 3055),\n",
       " (0.045205143175750806, 2737),\n",
       " (0.045205143175750806, 2292),\n",
       " (0.045205143175750806, 1475),\n",
       " (0.045137142121380584, 2822),\n",
       " (0.04498602637267011, 2161),\n",
       " (0.04478610091162268, 896),\n",
       " (0.0443122935728851, 3235),\n",
       " (0.0443122935728851, 3049),\n",
       " (0.0443122935728851, 2154),\n",
       " (0.0443122935728851, 1978),\n",
       " (0.0443122935728851, 546),\n",
       " (0.04416876165065784, 3279),\n",
       " (0.04416876165065784, 2582),\n",
       " (0.04403938115580223, 2064),\n",
       " (0.04375757986584303, 97),\n",
       " (0.04349807110759743, 3570),\n",
       " (0.043347710079499155, 3399),\n",
       " (0.04266529161560463, 3310),\n",
       " (0.04266529161560463, 2076),\n",
       " (0.04266529161560463, 1407),\n",
       " (0.04266529161560463, 586),\n",
       " (0.041822606779345184, 3287),\n",
       " (0.041818373480833865, 724),\n",
       " (0.04176434834421346, 2532),\n",
       " (0.04125350376404429, 3336),\n",
       " (0.04125350376404429, 2656),\n",
       " (0.04125350376404429, 2570),\n",
       " (0.04125350376404429, 2522),\n",
       " ...]"
      ]
     },
     "execution_count": 50,
     "metadata": {},
     "output_type": "execute_result"
    }
   ],
   "source": [
    "coef_pos_index = sorted(((value, index) for index, value in enumerate(lr.coef_[0])), reverse=True)\n",
    "coef_neg_index = sorted(((value, index) for index, value in enumerate(lr.coef_[0])), reverse=False)\n",
    "coef_pos_index"
   ]
  },
  {
   "cell_type": "code",
   "execution_count": 51,
   "metadata": {
    "id": "bQuDlc-GFbwJ",
    "tags": []
   },
   "outputs": [],
   "source": [
    "invert_index_vectorizer = {v: k for k, v in vect.vocabulary_.items()}"
   ]
  },
  {
   "cell_type": "code",
   "execution_count": 52,
   "metadata": {
    "colab": {
     "base_uri": "https://localhost:8080/",
     "height": 272
    },
    "id": "eHkWYQM0FdNU",
    "outputId": "d153ef45-5265-4132-c57d-a45a4ddc1470",
    "tags": []
   },
   "outputs": [
    {
     "name": "stdout",
     "output_type": "stream",
     "text": [
      "이용 1.3321308087111166\n",
      "추천 1.1098677278465363\n",
      "버스 1.029120247844704\n",
      "최고 0.9474432432978867\n",
      "가성 0.9049132254229897\n",
      "근처 0.8631251640260484\n",
      "조식 0.8624237330200113\n",
      "다음 0.7848182816732695\n",
      "위치 0.7329902190264134\n",
      "공간 0.7168654931407249\n",
      "시설 0.7161355390234534\n",
      "맛집 0.7134163462461057\n",
      "거리 0.7044600617626677\n",
      "분위기 0.6869152801231841\n",
      "바다 0.6556108465327282\n"
     ]
    }
   ],
   "source": [
    "for coef in coef_pos_index[:15]:\n",
    "    print(invert_index_vectorizer[coef[1]], coef[0])"
   ]
  },
  {
   "cell_type": "code",
   "execution_count": 53,
   "metadata": {
    "colab": {
     "base_uri": "https://localhost:8080/",
     "height": 272
    },
    "id": "O0gRzUtXFeLX",
    "outputId": "0d9e060c-c8aa-4cce-8410-d28bdbd6aa91",
    "tags": []
   },
   "outputs": [
    {
     "name": "stdout",
     "output_type": "stream",
     "text": [
      "냄새 -1.1245008869879287\n",
      "별로 -0.9632209931825515\n",
      "아무 -0.6811855513119685\n",
      "화장실 -0.6683241824194208\n",
      "그냥 -0.6491883332225628\n",
      "모기 -0.6302873381425532\n",
      "수건 -0.6243491941007028\n",
      "느낌 -0.5975494080979522\n",
      "모텔 -0.5971174361320485\n",
      "다른 -0.5966138818945081\n",
      "최악 -0.593317479621261\n",
      "음식 -0.5443424935120069\n",
      "주위 -0.5321043465183405\n",
      "진짜 -0.5254380815734119\n",
      "목욕 -0.5087212885846033\n"
     ]
    }
   ],
   "source": [
    "for coef in coef_neg_index[:15]:\n",
    "    print(invert_index_vectorizer[coef[1]], coef[0])"
   ]
  },
  {
   "cell_type": "code",
   "execution_count": null,
   "metadata": {
    "id": "fF8BtpB_FfkB"
   },
   "outputs": [],
   "source": []
  }
 ],
 "metadata": {
  "colab": {
   "provenance": [],
   "toc_visible": true
  },
  "kernelspec": {
   "display_name": "Python 3 (ipykernel)",
   "language": "python",
   "name": "python3"
  },
  "language_info": {
   "codemirror_mode": {
    "name": "ipython",
    "version": 3
   },
   "file_extension": ".py",
   "mimetype": "text/x-python",
   "name": "python",
   "nbconvert_exporter": "python",
   "pygments_lexer": "ipython3",
   "version": "3.9.16"
  }
 },
 "nbformat": 4,
 "nbformat_minor": 4
}
