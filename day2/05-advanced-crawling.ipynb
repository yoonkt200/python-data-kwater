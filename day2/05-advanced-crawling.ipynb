{
 "cells": [
  {
   "cell_type": "markdown",
   "id": "165ce125-03f7-4acc-b627-eb8d5a15835c",
   "metadata": {},
   "source": [
    "## 웹 크롤링 심화\n",
    "----"
   ]
  },
  {
   "cell_type": "markdown",
   "id": "bdac4468-b28f-4975-9d38-8a060257b7d1",
   "metadata": {},
   "source": [
    "- 1. anaconda prompt(혹은 terminal) 에서 가상환경을 실행한 뒤, `pip install selenium requests`를 입력하여 설치합니다.\n",
    "- 2. 아래의 코드 실행 : `\"!\"` 를 코드 앞에 입력하면 anaconda prompt(terminal)에서 실행하는 것과 같은 명령입니다."
   ]
  },
  {
   "cell_type": "code",
   "execution_count": 4,
   "id": "10825f59-4460-468c-922e-5743f3896863",
   "metadata": {
    "tags": []
   },
   "outputs": [],
   "source": [
    "!pip install selenium requests"
   ]
  },
  {
   "cell_type": "markdown",
   "id": "48807476-2b18-4e6f-bfb3-6a94a9ff978a",
   "metadata": {},
   "source": [
    "### 1. Selenium 사용하기"
   ]
  },
  {
   "cell_type": "markdown",
   "id": "e3878894-d801-4df4-bc99-8c44925baba8",
   "metadata": {},
   "source": [
    "----\n",
    "#### 1) 크롬 브라우저 실행하기"
   ]
  },
  {
   "cell_type": "code",
   "execution_count": 19,
   "id": "919e3ee4-2480-4095-9fcd-d32aa215a52e",
   "metadata": {
    "tags": []
   },
   "outputs": [],
   "source": [
    "import time\n",
    "\n",
    "from selenium import webdriver\n",
    "import requests\n",
    "from bs4 import BeautifulSoup\n",
    "\n",
    "url = \"https://www.naver.com\"\n",
    "\n",
    "driver = webdriver.Chrome()"
   ]
  },
  {
   "cell_type": "code",
   "execution_count": 20,
   "id": "6f3f3608-66ed-430b-8e9c-7f6b508fc224",
   "metadata": {
    "tags": []
   },
   "outputs": [],
   "source": [
    "driver.get(url)\n",
    "time.sleep(2)\n",
    "html = driver.page_source\n",
    "driver.quit()"
   ]
  },
  {
   "cell_type": "code",
   "execution_count": null,
   "id": "6652a14b-b749-49a1-9b2e-b71aa1b19f53",
   "metadata": {},
   "outputs": [],
   "source": [
    "print(html)"
   ]
  },
  {
   "cell_type": "markdown",
   "id": "9bcee055-7185-47c6-a75b-cfbeca9f18ce",
   "metadata": {},
   "source": [
    "----\n",
    "#### 2) 셀레니움으로 반복 수행하기"
   ]
  },
  {
   "cell_type": "code",
   "execution_count": null,
   "id": "4ef7dd6b-9bca-43ba-8ecc-11e6e5220902",
   "metadata": {},
   "outputs": [],
   "source": [
    "import time\n",
    "\n",
    "from selenium import webdriver\n",
    "import requests\n",
    "from bs4 import BeautifulSoup"
   ]
  },
  {
   "cell_type": "code",
   "execution_count": 26,
   "id": "b13a3653-e949-4ff2-8a87-74bdc59bdf0c",
   "metadata": {
    "tags": []
   },
   "outputs": [
    {
     "name": "stdout",
     "output_type": "stream",
     "text": [
      "https://magazine.hankyung.com/business/article/202406058563b\n",
      "https://zdnet.co.kr/view/?no=20240605174053\n",
      "https://star.ytn.co.kr/_sn/0117_202406051457168310\n",
      "https://sports.khan.co.kr/news/sk_index.html?art_id=202406050734003&sec_id=540301&pt=nv\n",
      "https://www.hani.co.kr/arti/culture/culture_general/1143354.html\n",
      "https://www.hankyung.com/article/2024060692307\n",
      "https://sports.khan.co.kr/news/sk_index.html?art_id=202406040843003&sec_id=540301&pt=nv\n",
      "https://isplus.com/article/view/isp202406030201\n",
      "https://news.jtbc.co.kr/article/article.aspx?news_id=NB12199200\n",
      "https://www.mk.co.kr/article/11035003\n",
      "https://www.newsis.com/view/?id=NISX20240606_0002763275&cID=10601&pID=10600\n",
      "https://www.joongang.co.kr/article/25254603\n",
      "https://sports.khan.co.kr/news/sk_index.html?art_id=202406051420003&sec_id=540301&pt=nv\n",
      "https://www.mhns.co.kr/news/articleView.html?idxno=599528\n",
      "http://www.osen.co.kr/article/G1112350688\n"
     ]
    }
   ],
   "source": [
    "keyword_list = ['뉴진스', '아이브', '에스파']\n",
    "driver = webdriver.Chrome()\n",
    "\n",
    "for keyword in keyword_list:\n",
    "    url = f\"https://search.naver.com/search.naver?ssc=tab.news.all&where=news&sm=tab_jum&query={keyword}\"\n",
    "    driver.get(url)\n",
    "    html = driver.page_source\n",
    "    soup = BeautifulSoup(html, \"html.parser\")\n",
    "    div = soup.find(\"div\", attrs={\"class\":\"group_news\"})\n",
    "    a_tag_list = div.find_all(\"a\", attrs={\"class\":\"news_tit\"})\n",
    "    for a in a_tag_list[:5]:\n",
    "        print(a['href'])\n",
    "\n",
    "driver.quit()"
   ]
  },
  {
   "cell_type": "code",
   "execution_count": null,
   "id": "6244f53b-f4d8-48ae-8454-5a6938786a28",
   "metadata": {},
   "outputs": [],
   "source": []
  }
 ],
 "metadata": {
  "kernelspec": {
   "display_name": "Python 3 (ipykernel)",
   "language": "python",
   "name": "python3"
  },
  "language_info": {
   "codemirror_mode": {
    "name": "ipython",
    "version": 3
   },
   "file_extension": ".py",
   "mimetype": "text/x-python",
   "name": "python",
   "nbconvert_exporter": "python",
   "pygments_lexer": "ipython3",
   "version": "3.9.16"
  }
 },
 "nbformat": 4,
 "nbformat_minor": 5
}
