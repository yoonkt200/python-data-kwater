{
 "cells": [
  {
   "cell_type": "markdown",
   "id": "165ce125-03f7-4acc-b627-eb8d5a15835c",
   "metadata": {},
   "source": [
    "## 웹 크롤링 기초\n",
    "----"
   ]
  },
  {
   "cell_type": "markdown",
   "id": "b812e8b5-1103-41d9-a5d1-b4e56e94fb0f",
   "metadata": {},
   "source": [
    "### 1. 웹 크롤링 구조"
   ]
  },
  {
   "cell_type": "markdown",
   "id": "bc2c5b6e-8a1f-4ca4-b52c-f6748a80e146",
   "metadata": {},
   "source": [
    "#### 1) HTML, CSS"
   ]
  },
  {
   "cell_type": "markdown",
   "id": "8b04510f-2172-4a2c-826d-d8e9decc6d26",
   "metadata": {
    "tags": []
   },
   "source": [
    "![HTML](../etc/html_img.png)"
   ]
  },
  {
   "cell_type": "markdown",
   "id": "cb100b08-e026-4596-8581-68cebd51732f",
   "metadata": {},
   "source": [
    "----\n",
    "#### 2) 웹브라우저 개발자도구"
   ]
  },
  {
   "cell_type": "markdown",
   "id": "a6557282-d6df-4754-a7bb-8f11f9bc505c",
   "metadata": {},
   "source": [
    "![개발자도구](../etc/browser_1.png)"
   ]
  },
  {
   "cell_type": "markdown",
   "id": "21a535ff-1b90-4fa6-9ffb-63f825914d45",
   "metadata": {},
   "source": [
    "![개발자도구](../etc/browser_2.png)"
   ]
  },
  {
   "cell_type": "markdown",
   "id": "47efa240-aea9-4ae7-9aa5-80f9f07b8a79",
   "metadata": {},
   "source": [
    "----\n",
    "#### 3) requests 모듈 사용하기"
   ]
  },
  {
   "cell_type": "code",
   "execution_count": 1,
   "id": "678f28d5-44ed-447e-b020-7a35ed0d93e0",
   "metadata": {
    "tags": []
   },
   "outputs": [],
   "source": [
    "import requests"
   ]
  },
  {
   "cell_type": "code",
   "execution_count": 2,
   "id": "88ec257a-a9c8-47e5-b7ba-b88d11f1eb4b",
   "metadata": {
    "tags": []
   },
   "outputs": [],
   "source": [
    "url = \"https://naver.com\""
   ]
  },
  {
   "cell_type": "code",
   "execution_count": 3,
   "id": "73719e79-0749-40c5-a468-809abb5e8ca8",
   "metadata": {
    "tags": []
   },
   "outputs": [],
   "source": [
    "res = requests.get(url)"
   ]
  },
  {
   "cell_type": "code",
   "execution_count": 5,
   "id": "43856c0a-97ee-41d0-acb9-4908c58cf726",
   "metadata": {
    "tags": []
   },
   "outputs": [
    {
     "name": "stdout",
     "output_type": "stream",
     "text": [
      "200\n"
     ]
    }
   ],
   "source": [
    "print(res.status_code)"
   ]
  },
  {
   "cell_type": "code",
   "execution_count": 8,
   "id": "9edb136b-cb3c-40f6-9fc4-9a53a153fd8a",
   "metadata": {
    "tags": []
   },
   "outputs": [],
   "source": [
    "# print(res.text)"
   ]
  },
  {
   "cell_type": "markdown",
   "id": "e5002af6-a274-4811-9203-7a4693273341",
   "metadata": {},
   "source": [
    "----\n",
    "#### 4) BeautifulSoup 모듈 사용하기"
   ]
  },
  {
   "cell_type": "code",
   "execution_count": 23,
   "id": "57262dd0-aaa4-49a9-b538-026e521d3cd8",
   "metadata": {
    "tags": []
   },
   "outputs": [],
   "source": [
    "import requests\n",
    "from bs4 import BeautifulSoup\n",
    "\n",
    "url = \"https://www.naver.com/\"\n",
    "res = requests.get(url)\n",
    "html = res.text\n",
    "\n",
    "# HTML 정보를 분석해주는 모듈\n",
    "soup = BeautifulSoup(html, \"html.parser\")"
   ]
  },
  {
   "cell_type": "code",
   "execution_count": 53,
   "id": "538dd1b5-d8f5-4833-bec2-e66a86dc4d95",
   "metadata": {
    "tags": []
   },
   "outputs": [],
   "source": [
    "a_tag_list = soup.find_all(\"a\")"
   ]
  },
  {
   "cell_type": "code",
   "execution_count": 54,
   "id": "3821af5f-90f3-4ec6-89af-ac49450661e0",
   "metadata": {
    "tags": []
   },
   "outputs": [
    {
     "name": "stdout",
     "output_type": "stream",
     "text": [
      "[<a href=\"#topAsideButton\"><span>상단영역 바로가기</span></a>, <a href=\"#shortcutArea\"><span>서비스 메뉴 바로가기</span></a>, <a href=\"#newsstand\"><span>새소식 블록 바로가기</span></a>, <a href=\"#shopping\"><span>쇼핑 블록 바로가기</span></a>, <a href=\"#feed\"><span>관심사 블록 바로가기</span></a>, <a href=\"#account\"><span>MY 영역 바로가기</span></a>, <a href=\"#widgetboard\"><span>위젯 보드 바로가기</span></a>, <a href=\"#viewSetting\"><span>보기 설정 바로가기</span></a>, <a aria-pressed=\"false\" class=\"item _delAll\" href=\"#\" role=\"button\">전체삭제</a>, <a class=\"kwd_help\" data-clk=\"sly.help\" href=\"https://help.naver.com/alias/search/word/word_35.naver\" target=\"_blank\">도움말</a>, <a class=\"kwd_help\" data-clk=\"sly.help\" href=\"https://help.naver.com/alias/search/word/word_35.naver\" target=\"_blank\">도움말</a>, <a class=\"close _keywordOnOff\" href=\"#\">자동저장 끄기</a>, <a data-clk=\"sly.help\" href=\"https://help.naver.com/alias/search/word/word_35.naver\" target=\"_blank\">도움말</a>, <a class=\"close _close\" href=\"#\">닫기</a>, <a aria-pressed=\"false\" class=\"btn_help _tg_btn\" href=\"#\" role=\"button\"><i class=\"imgsvg ico_alert\">이 정보가 표시된 이유</i></a>, <a class=\"btn_close _tg_btn\" href=\"#\" role=\"button\"><i class=\"imgsvg ico_close\">레이어 닫기</i></a>, <a class=\"btn\" href=\"#\" role=\"button\"><i class=\"imgsvg ico_arr\">이전</i></a>, <a class=\"btn\" href=\"#\" role=\"button\"><i class=\"imgsvg ico_arr\">다음</i></a>, <a class=\"link _alert_link\" href=\"#\" target=\"_blank\">자세히보기</a>, <a class=\"link_dsc\" data-clk=\"sug.cxhelp\" href=\"https://help.naver.com/alias/search/word/word_16.naver\" target=\"_blank\">관심사를 반영한 컨텍스트 자동완성<i class=\"imgsvg ico_help\">도움말</i></a>, <a aria-pressed=\"false\" class=\"bt_switch active _plus_btn\" href=\"#\" role=\"button\"><i class=\"imgsvg ico_option\">컨텍스트 자동완성</i></a>, <a class=\"link_view\" data-clk=\"sug.cxlink\" href=\"https://help.naver.com/alias/search/word/word_16.naver\" target=\"_blank\">자세히 보기</a>, <a class=\"link_view\" data-clk=\"sug.cxlink\" href=\"https://help.naver.com/support/alias/search/word/word_16.naver\" target=\"_blank\">자세히 보기</a>, <a class=\"btn btn_login\" data-clk=\"sug.cxlogin\" href=\"https://nid.naver.com/nidlogin.login\"><i class=\"imgsvg ico_naver\">네이버</i>로그인</a>, <a class=\"btn_close _plus_layer_close\" href=\"#\" role=\"button\"><i class=\"imgsvg ico_close\">컨텍스트 자동완성 레이어 닫기</i></a>, <a class=\"close _suggestOnOff\" href=\"#\">자동완성 끄기</a>, <a data-clk=\"sug.help\" href=\"https://help.naver.com/alias/search/word/word_17.naver\" target=\"_blank\">도움말</a>, <a class=\"report\" data-clk=\"sug.report\" href=\"https://help.naver.com/alias/search/word/word_18.naver\" target=\"_blank\">신고</a>, <a class=\"close _close\" href=\"#\">닫기</a>]\n"
     ]
    }
   ],
   "source": [
    "print(a_tag_list)"
   ]
  },
  {
   "cell_type": "code",
   "execution_count": 57,
   "id": "b81fca40-cbfb-483d-bc85-9456097a3560",
   "metadata": {
    "tags": []
   },
   "outputs": [
    {
     "data": {
      "text/plain": [
       "<a class=\"report\" data-clk=\"sug.report\" href=\"https://help.naver.com/alias/search/word/word_18.naver\" target=\"_blank\">신고</a>"
      ]
     },
     "execution_count": 57,
     "metadata": {},
     "output_type": "execute_result"
    }
   ],
   "source": [
    "a_tag_list[-2]"
   ]
  },
  {
   "cell_type": "code",
   "execution_count": 58,
   "id": "b7511c40-0a98-48f9-afde-1de52a937a38",
   "metadata": {
    "tags": []
   },
   "outputs": [
    {
     "data": {
      "text/plain": [
       "'https://help.naver.com/alias/search/word/word_18.naver'"
      ]
     },
     "execution_count": 58,
     "metadata": {},
     "output_type": "execute_result"
    }
   ],
   "source": [
    "a_tag_list[-2]['href']"
   ]
  },
  {
   "cell_type": "code",
   "execution_count": null,
   "id": "275f527c-22ae-4e98-aec5-e889bfb639a9",
   "metadata": {},
   "outputs": [],
   "source": []
  },
  {
   "cell_type": "code",
   "execution_count": null,
   "id": "632fd078-9cd9-4ccc-ba15-315d737b106d",
   "metadata": {},
   "outputs": [],
   "source": []
  },
  {
   "cell_type": "markdown",
   "id": "48807476-2b18-4e6f-bfb3-6a94a9ff978a",
   "metadata": {},
   "source": [
    "### 2. 웹 크롤링 실습"
   ]
  },
  {
   "cell_type": "markdown",
   "id": "e3878894-d801-4df4-bc99-8c44925baba8",
   "metadata": {},
   "source": [
    "----\n",
    "#### 1) 리스트 찾기\n",
    "- 네이버에 '챗지피티' 검색 후, 뉴스 탭에 나오는 기사 5개 제목 출력하기"
   ]
  },
  {
   "cell_type": "code",
   "execution_count": 59,
   "id": "919e3ee4-2480-4095-9fcd-d32aa215a52e",
   "metadata": {
    "tags": []
   },
   "outputs": [],
   "source": [
    "import requests\n",
    "from bs4 import BeautifulSoup\n",
    "\n",
    "url = \"https://search.naver.com/search.naver?ssc=tab.news.all&where=news&sm=tab_jum&query=%EC%B1%97%EC%A7%80%ED%94%BC%ED%8B%B0\"\n",
    "res = requests.get(url)\n",
    "html = res.text\n",
    "soup = BeautifulSoup(html, \"html.parser\")"
   ]
  },
  {
   "cell_type": "code",
   "execution_count": 71,
   "id": "e833f783-21d3-4492-aa4a-2c30bdf9137a",
   "metadata": {
    "tags": []
   },
   "outputs": [],
   "source": [
    "div = soup.find(\"div\", attrs={\"class\":\"group_news\"})"
   ]
  },
  {
   "cell_type": "code",
   "execution_count": 77,
   "id": "39de9c7f-5137-43b9-9255-6873e22cd5d0",
   "metadata": {
    "tags": []
   },
   "outputs": [],
   "source": [
    "a_tag_list = div.find_all(\"a\", attrs={\"class\":\"news_tit\"})"
   ]
  },
  {
   "cell_type": "code",
   "execution_count": 78,
   "id": "29e78f06-2b5e-47c8-a34f-cffff1aa2333",
   "metadata": {
    "tags": []
   },
   "outputs": [
    {
     "data": {
      "text/plain": [
       "[<a class=\"news_tit\" href=\"http://www.edaily.co.kr/news/newspath.asp?newsid=01082406638919096\" onclick=\"return goOtherCR(this, 'a=nws*e.tit&amp;r=1&amp;i=880000E7_000000000000000005757233&amp;g=018.0005757233&amp;u='+urlencode(this.href));\" target=\"_blank\" title='\"AI로 병원 일정 관리부터 치매간병서비스까지 제공\"[와이즈에이아이 대해부②]'>\"AI로 병원 일정 관리부터 치매간병서비스까지 제공\"[와이즈에이아이 대해부②...</a>,\n",
       " <a class=\"news_tit\" href=\"https://www.news1.kr/articles/5435291\" onclick=\"return goOtherCR(this, 'a=nws*a.tit&amp;r=2&amp;i=08138263_000000000000000007577843&amp;g=421.0007577843&amp;u='+urlencode(this.href));\" target=\"_blank\" title=\"부산시, 시민과 함께하는 데이터와 챗지피티 특강\">부산시, 시민과 함께하는 데이터와 <mark>챗지피티</mark> 특강</a>,\n",
       " <a class=\"news_tit\" href=\"https://zdnet.co.kr/view/?no=20240602105240\" onclick=\"return goOtherCR(this, 'a=nws*j.tit&amp;r=6&amp;i=8800011E_000000000000000002333391&amp;g=092.0002333391&amp;u='+urlencode(this.href));\" target=\"_blank\" title=\"에듀테크 뛰어든 오픈AI, 학교·비영리용 '챗GPT 에듀' 출시\">에듀테크 뛰어든 오픈AI, 학교·비영리용 '챗GPT 에듀' 출시</a>,\n",
       " <a class=\"news_tit\" href=\"http://www.fntoday.co.kr/news/articleView.html?idxno=321962\" onclick=\"return goOtherCR(this, 'a=nws*f.tit&amp;r=7&amp;i=881842af_000000000000000000108864&amp;g=5585.0000108864&amp;u='+urlencode(this.href));\" target=\"_blank\" title=\"농촌진흥청 국립식량과학원, 미래교육아카데미 챗GPT 강사진 초청 '챗지피티 AI 활용 업무효율화' 교육 성료\">농촌진흥청 국립식량과학원, 미래교육아카데미 챗GPT 강사진 초청 '<mark>챗지피티</mark> ...</a>,\n",
       " <a class=\"news_tit\" href=\"https://www.hani.co.kr/arti/international/international_general/1141380.html\" onclick=\"return goOtherCR(this, 'a=nws*h.tit&amp;r=8&amp;i=88000103_000000000000000002690214&amp;g=028.0002690214&amp;u='+urlencode(this.href));\" target=\"_blank\" title=\"챗지피티, 영화 ‘그녀’ 조핸슨 목소리 베꼈나…“친구도 구별 못 해”\"><mark>챗지피티</mark>, 영화 ‘그녀’ 조핸슨 목소리 베꼈나…“친구도 구별 못 해”</a>]"
      ]
     },
     "execution_count": 78,
     "metadata": {},
     "output_type": "execute_result"
    }
   ],
   "source": [
    "a_tag_list[:5]"
   ]
  },
  {
   "cell_type": "code",
   "execution_count": 79,
   "id": "37717971-db00-4bc7-95b4-ac0ce312bed6",
   "metadata": {
    "tags": []
   },
   "outputs": [
    {
     "name": "stdout",
     "output_type": "stream",
     "text": [
      "\"AI로 병원 일정 관리부터 치매간병서비스까지 제공\"[와이즈에이아이 대해부②] http://www.edaily.co.kr/news/newspath.asp?newsid=01082406638919096\n",
      "부산시, 시민과 함께하는 데이터와 챗지피티 특강 https://www.news1.kr/articles/5435291\n",
      "에듀테크 뛰어든 오픈AI, 학교·비영리용 '챗GPT 에듀' 출시 https://zdnet.co.kr/view/?no=20240602105240\n",
      "농촌진흥청 국립식량과학원, 미래교육아카데미 챗GPT 강사진 초청 '챗지피티 AI 활용 업무효율화' 교육 성료 http://www.fntoday.co.kr/news/articleView.html?idxno=321962\n",
      "챗지피티, 영화 ‘그녀’ 조핸슨 목소리 베꼈나…“친구도 구별 못 해” https://www.hani.co.kr/arti/international/international_general/1141380.html\n",
      "전남도, 챗지피티(ChatGPT)로 도정 홍보 나선다 https://www.nocutnews.co.kr/news/6148627?utm_source=naver&utm_medium=article&utm_campaign=20240522023712\n",
      "챗지피티 뺨치는 첨단의 농촌 소설 [책&생각] https://www.hani.co.kr/arti/culture/book/1141879.html\n",
      "동양생명, '챗GPT 아이디어 페스티벌' 시상식 개최 http://www.goodkyung.com/news/articleView.html?idxno=237850\n",
      "부동산원, 청소년에 디지털 역량 강화 교육 https://www.newsis.com/view/?id=NISX20240523_0002745226&cID=10405&pID=10400\n",
      "국립부경대, '챗지피티 활용 진로·취업전략 캠프' 진행 http://www.enewstoday.co.kr/news/articleView.html?idxno=2129267\n"
     ]
    }
   ],
   "source": [
    "for a in a_tag_list:\n",
    "    print(a['title'], a['href'])"
   ]
  },
  {
   "cell_type": "markdown",
   "id": "8bca8ccb-e4de-45f3-849d-ea57bdb7b4ed",
   "metadata": {},
   "source": [
    "----\n",
    "#### 2) 여러 검색어 입력하기\n",
    "- '챗지피티' 이외의 검색어도 넣기\n",
    "- **단, 너무 많이 requests를 호출할 경우, ip가 일시적으로 차단될 수 있으니 주의**"
   ]
  },
  {
   "cell_type": "code",
   "execution_count": 80,
   "id": "47482b81-b533-44ea-9bfb-95c17f168ac8",
   "metadata": {
    "tags": []
   },
   "outputs": [
    {
     "name": "stdout",
     "output_type": "stream",
     "text": [
      "어도어 \"뉴진스 향한 악플 선처 없다…제보 부탁\" https://magazine.hankyung.com/business/article/202406058563b\n",
      "\"버니즈 안전·편의 최우선\"…확 바뀐 뉴진스 라인프렌즈 팝업 가보니 https://zdnet.co.kr/view/?no=20240605174053\n",
      "[Y초점] 반토막 난 뉴진스 'How Sweet' 판매량…좋은 시그널은 아니다 https://star.ytn.co.kr/_sn/0117_202406051457168310\n",
      "뉴진스, 美 빌보드 ‘버블링 언더 핫 100’ 12위 https://sports.khan.co.kr/news/sk_index.html?art_id=202406050734003&sec_id=540301&pt=nv\n",
      "뉴진스 ‘하우 스위트’ 빌보드 글로벌 7위…통산 5번째 톱10 https://www.hani.co.kr/arti/culture/culture_general/1143354.html\n",
      "[단독] 아이브 안유진, 맥심 슈프림골드 모델 발탁 https://www.hankyung.com/article/2024060692307\n",
      "아이브 ‘5월의 여왕’···제베원 함께 한터차트 1위 https://sports.khan.co.kr/news/sk_index.html?art_id=202406040843003&sec_id=540301&pt=nv\n",
      "아이브, 6월 유럽·남미 투어 돌입 https://isplus.com/article/view/isp202406030201\n",
      "아이브, 유럽 투어 시작 \"행복하고 건강하게…성장해 올 것\" https://news.jtbc.co.kr/article/article.aspx?news_id=NB12199200\n",
      "한혜진, 아이브 안유진과 챌린지 비화 “딸이 부끄러워해”(컬투쇼) https://www.newsen.com/news_view.php?uid=202406061531320310\n",
      "밟을 수 없는 에스파, 슈퍼노바·아마겟돈 쌍끌이 https://www.newsis.com/view/?id=NISX20240606_0002763275&cID=10601&pID=10600\n",
      "뉴진스∙에스파와 어깨 나란히…13개 대학축제 휩쓴 걸그룹 정체 https://www.joongang.co.kr/article/25254603\n",
      "에스파, 두번째 월드투어 ‘매진·매진·매진’ https://sports.khan.co.kr/news/sk_index.html?art_id=202406051420003&sec_id=540301&pt=nv\n",
      "[랭키파이 트렌드] 뉴진스 VS 에스파...치열한 4세대 트렌드지수 경쟁 https://www.mhns.co.kr/news/articleView.html?idxno=599528\n",
      "변우석 앞에는 이제 에스파와 뉴진스 뿐이다 [Oh!쎈 이슈] http://www.osen.co.kr/article/G1112350688\n"
     ]
    }
   ],
   "source": [
    "import requests\n",
    "from bs4 import BeautifulSoup\n",
    "\n",
    "keyword_list = ['뉴진스', '아이브', '에스파']\n",
    "for keyword in keyword_list:\n",
    "    url = f\"https://search.naver.com/search.naver?ssc=tab.news.all&where=news&sm=tab_jum&query={keyword}\"\n",
    "    res = requests.get(url)\n",
    "    html = res.text\n",
    "    soup = BeautifulSoup(html, \"html.parser\")\n",
    "    div = soup.find(\"div\", attrs={\"class\":\"group_news\"})\n",
    "    a_tag_list = div.find_all(\"a\", attrs={\"class\":\"news_tit\"})\n",
    "    for a in a_tag_list[:5]:\n",
    "        print(a['title'], a['href'])"
   ]
  },
  {
   "cell_type": "code",
   "execution_count": null,
   "id": "e0d8c1e6-c94e-45d4-b61f-3251106644d5",
   "metadata": {},
   "outputs": [],
   "source": []
  },
  {
   "cell_type": "markdown",
   "id": "5f496537-86eb-4ffe-918a-835a89c2ca3b",
   "metadata": {},
   "source": [
    "----\n",
    "#### 3) pandas 데이터 프레임 구조"
   ]
  },
  {
   "cell_type": "code",
   "execution_count": 87,
   "id": "bdab3e9c-16c9-4e2d-9a50-d585acfd5775",
   "metadata": {
    "tags": []
   },
   "outputs": [
    {
     "name": "stdout",
     "output_type": "stream",
     "text": [
      "[{'A': 0, 'B': 1}, {'A': 1, 'B': 2}, {'A': 2, 'B': 3}, {'A': 3, 'B': 4}, {'A': 4, 'B': 5}, {'A': 5, 'B': 6}, {'A': 6, 'B': 7}, {'A': 7, 'B': 8}, {'A': 8, 'B': 9}, {'A': 9, 'B': 10}]\n"
     ]
    }
   ],
   "source": [
    "import pandas as pd\n",
    "\n",
    "row_list = []\n",
    "for idx in range(10):\n",
    "    row = {'A': idx, 'B': idx+1}\n",
    "    row_list.append(row)\n",
    "    \n",
    "print(row_list)"
   ]
  },
  {
   "cell_type": "code",
   "execution_count": 88,
   "id": "91229aaf-5914-4411-92e8-5de0160eea01",
   "metadata": {
    "tags": []
   },
   "outputs": [],
   "source": [
    "df = pd.DataFrame(row_list)"
   ]
  },
  {
   "cell_type": "code",
   "execution_count": 89,
   "id": "2097005e-5e24-48dd-8d26-543fa21714d5",
   "metadata": {
    "tags": []
   },
   "outputs": [
    {
     "data": {
      "text/html": [
       "<div>\n",
       "<style scoped>\n",
       "    .dataframe tbody tr th:only-of-type {\n",
       "        vertical-align: middle;\n",
       "    }\n",
       "\n",
       "    .dataframe tbody tr th {\n",
       "        vertical-align: top;\n",
       "    }\n",
       "\n",
       "    .dataframe thead th {\n",
       "        text-align: right;\n",
       "    }\n",
       "</style>\n",
       "<table border=\"1\" class=\"dataframe\">\n",
       "  <thead>\n",
       "    <tr style=\"text-align: right;\">\n",
       "      <th></th>\n",
       "      <th>A</th>\n",
       "      <th>B</th>\n",
       "    </tr>\n",
       "  </thead>\n",
       "  <tbody>\n",
       "    <tr>\n",
       "      <th>0</th>\n",
       "      <td>0</td>\n",
       "      <td>1</td>\n",
       "    </tr>\n",
       "    <tr>\n",
       "      <th>1</th>\n",
       "      <td>1</td>\n",
       "      <td>2</td>\n",
       "    </tr>\n",
       "    <tr>\n",
       "      <th>2</th>\n",
       "      <td>2</td>\n",
       "      <td>3</td>\n",
       "    </tr>\n",
       "    <tr>\n",
       "      <th>3</th>\n",
       "      <td>3</td>\n",
       "      <td>4</td>\n",
       "    </tr>\n",
       "    <tr>\n",
       "      <th>4</th>\n",
       "      <td>4</td>\n",
       "      <td>5</td>\n",
       "    </tr>\n",
       "  </tbody>\n",
       "</table>\n",
       "</div>"
      ],
      "text/plain": [
       "   A  B\n",
       "0  0  1\n",
       "1  1  2\n",
       "2  2  3\n",
       "3  3  4\n",
       "4  4  5"
      ]
     },
     "execution_count": 89,
     "metadata": {},
     "output_type": "execute_result"
    }
   ],
   "source": [
    "df.head()"
   ]
  },
  {
   "cell_type": "code",
   "execution_count": null,
   "id": "b476d380-9784-4260-a9cc-223c789faebe",
   "metadata": {},
   "outputs": [],
   "source": []
  },
  {
   "cell_type": "markdown",
   "id": "2f49b0ce-acbc-4465-a196-b588bb93a65b",
   "metadata": {},
   "source": [
    "----\n",
    "#### 4) pandas 데이터 프레임으로 바꾸기\n",
    "- 원하는 검색어 및 뉴스 타이틀과 url을 데이터 프레임으로 변경하기"
   ]
  },
  {
   "cell_type": "code",
   "execution_count": 90,
   "id": "e577e2ad-96b2-4a63-865b-2ae82138a28b",
   "metadata": {
    "tags": []
   },
   "outputs": [],
   "source": [
    "keyword_list = ['뉴진스', '아이브', '에스파']\n",
    "row_list = []\n",
    "\n",
    "for keyword in keyword_list:\n",
    "    url = f\"https://search.naver.com/search.naver?ssc=tab.news.all&where=news&sm=tab_jum&query={keyword}\"\n",
    "    res = requests.get(url)\n",
    "    html = res.text\n",
    "    soup = BeautifulSoup(html, \"html.parser\")\n",
    "    div = soup.find(\"div\", attrs={\"class\":\"group_news\"})\n",
    "    a_tag_list = div.find_all(\"a\", attrs={\"class\":\"news_tit\"})\n",
    "    for a in a_tag_list[:5]:\n",
    "        row = {'keyword': keyword, 'title': a['title'], 'url': a['href']}\n",
    "        row_list.append(row)"
   ]
  },
  {
   "cell_type": "code",
   "execution_count": 91,
   "id": "071ca998-25b3-472c-9a53-a45e6c6d75f7",
   "metadata": {
    "tags": []
   },
   "outputs": [
    {
     "data": {
      "text/html": [
       "<div>\n",
       "<style scoped>\n",
       "    .dataframe tbody tr th:only-of-type {\n",
       "        vertical-align: middle;\n",
       "    }\n",
       "\n",
       "    .dataframe tbody tr th {\n",
       "        vertical-align: top;\n",
       "    }\n",
       "\n",
       "    .dataframe thead th {\n",
       "        text-align: right;\n",
       "    }\n",
       "</style>\n",
       "<table border=\"1\" class=\"dataframe\">\n",
       "  <thead>\n",
       "    <tr style=\"text-align: right;\">\n",
       "      <th></th>\n",
       "      <th>keyword</th>\n",
       "      <th>title</th>\n",
       "      <th>url</th>\n",
       "    </tr>\n",
       "  </thead>\n",
       "  <tbody>\n",
       "    <tr>\n",
       "      <th>0</th>\n",
       "      <td>뉴진스</td>\n",
       "      <td>어도어 \"뉴진스 향한 악플 선처 없다…제보 부탁\"</td>\n",
       "      <td>https://magazine.hankyung.com/business/article...</td>\n",
       "    </tr>\n",
       "    <tr>\n",
       "      <th>1</th>\n",
       "      <td>뉴진스</td>\n",
       "      <td>\"버니즈 안전·편의 최우선\"…확 바뀐 뉴진스 라인프렌즈 팝업 가보니</td>\n",
       "      <td>https://zdnet.co.kr/view/?no=20240605174053</td>\n",
       "    </tr>\n",
       "    <tr>\n",
       "      <th>2</th>\n",
       "      <td>뉴진스</td>\n",
       "      <td>[Y초점] 반토막 난 뉴진스 'How Sweet' 판매량…좋은 시그널은 아니다</td>\n",
       "      <td>https://star.ytn.co.kr/_sn/0117_20240605145716...</td>\n",
       "    </tr>\n",
       "    <tr>\n",
       "      <th>3</th>\n",
       "      <td>뉴진스</td>\n",
       "      <td>뉴진스, 美 빌보드 ‘버블링 언더 핫 100’ 12위</td>\n",
       "      <td>https://sports.khan.co.kr/news/sk_index.html?a...</td>\n",
       "    </tr>\n",
       "    <tr>\n",
       "      <th>4</th>\n",
       "      <td>뉴진스</td>\n",
       "      <td>뉴진스 ‘하우 스위트’ 빌보드 글로벌 7위…통산 5번째 톱10</td>\n",
       "      <td>https://www.hani.co.kr/arti/culture/culture_ge...</td>\n",
       "    </tr>\n",
       "    <tr>\n",
       "      <th>5</th>\n",
       "      <td>아이브</td>\n",
       "      <td>[단독] 아이브 안유진, 맥심 슈프림골드 모델 발탁</td>\n",
       "      <td>https://www.hankyung.com/article/2024060692307</td>\n",
       "    </tr>\n",
       "    <tr>\n",
       "      <th>6</th>\n",
       "      <td>아이브</td>\n",
       "      <td>아이브 ‘5월의 여왕’···제베원 함께 한터차트 1위</td>\n",
       "      <td>https://sports.khan.co.kr/news/sk_index.html?a...</td>\n",
       "    </tr>\n",
       "    <tr>\n",
       "      <th>7</th>\n",
       "      <td>아이브</td>\n",
       "      <td>아이브, 6월 유럽·남미 투어 돌입</td>\n",
       "      <td>https://isplus.com/article/view/isp202406030201</td>\n",
       "    </tr>\n",
       "    <tr>\n",
       "      <th>8</th>\n",
       "      <td>아이브</td>\n",
       "      <td>아이브, 유럽 투어 시작 \"행복하고 건강하게…성장해 올 것\"</td>\n",
       "      <td>https://news.jtbc.co.kr/article/article.aspx?n...</td>\n",
       "    </tr>\n",
       "    <tr>\n",
       "      <th>9</th>\n",
       "      <td>아이브</td>\n",
       "      <td>한혜진, 아이브 안유진과 챌린지 비화 공개 “딸이 부끄러워해”</td>\n",
       "      <td>https://www.mk.co.kr/article/11035003</td>\n",
       "    </tr>\n",
       "    <tr>\n",
       "      <th>10</th>\n",
       "      <td>에스파</td>\n",
       "      <td>밟을 수 없는 에스파, 슈퍼노바·아마겟돈 쌍끌이</td>\n",
       "      <td>https://www.newsis.com/view/?id=NISX20240606_0...</td>\n",
       "    </tr>\n",
       "    <tr>\n",
       "      <th>11</th>\n",
       "      <td>에스파</td>\n",
       "      <td>뉴진스∙에스파와 어깨 나란히…13개 대학축제 휩쓴 걸그룹 정체</td>\n",
       "      <td>https://www.joongang.co.kr/article/25254603</td>\n",
       "    </tr>\n",
       "    <tr>\n",
       "      <th>12</th>\n",
       "      <td>에스파</td>\n",
       "      <td>에스파, 두번째 월드투어 ‘매진·매진·매진’</td>\n",
       "      <td>https://sports.khan.co.kr/news/sk_index.html?a...</td>\n",
       "    </tr>\n",
       "    <tr>\n",
       "      <th>13</th>\n",
       "      <td>에스파</td>\n",
       "      <td>[랭키파이 트렌드] 뉴진스 VS 에스파...치열한 4세대 트렌드지수 경쟁</td>\n",
       "      <td>https://www.mhns.co.kr/news/articleView.html?i...</td>\n",
       "    </tr>\n",
       "    <tr>\n",
       "      <th>14</th>\n",
       "      <td>에스파</td>\n",
       "      <td>변우석 앞에는 이제 에스파와 뉴진스 뿐이다 [Oh!쎈 이슈]</td>\n",
       "      <td>http://www.osen.co.kr/article/G1112350688</td>\n",
       "    </tr>\n",
       "  </tbody>\n",
       "</table>\n",
       "</div>"
      ],
      "text/plain": [
       "   keyword                                        title  \\\n",
       "0      뉴진스                  어도어 \"뉴진스 향한 악플 선처 없다…제보 부탁\"   \n",
       "1      뉴진스        \"버니즈 안전·편의 최우선\"…확 바뀐 뉴진스 라인프렌즈 팝업 가보니   \n",
       "2      뉴진스  [Y초점] 반토막 난 뉴진스 'How Sweet' 판매량…좋은 시그널은 아니다   \n",
       "3      뉴진스                뉴진스, 美 빌보드 ‘버블링 언더 핫 100’ 12위   \n",
       "4      뉴진스           뉴진스 ‘하우 스위트’ 빌보드 글로벌 7위…통산 5번째 톱10   \n",
       "5      아이브                 [단독] 아이브 안유진, 맥심 슈프림골드 모델 발탁   \n",
       "6      아이브                아이브 ‘5월의 여왕’···제베원 함께 한터차트 1위   \n",
       "7      아이브                          아이브, 6월 유럽·남미 투어 돌입   \n",
       "8      아이브            아이브, 유럽 투어 시작 \"행복하고 건강하게…성장해 올 것\"   \n",
       "9      아이브           한혜진, 아이브 안유진과 챌린지 비화 공개 “딸이 부끄러워해”   \n",
       "10     에스파                   밟을 수 없는 에스파, 슈퍼노바·아마겟돈 쌍끌이   \n",
       "11     에스파           뉴진스∙에스파와 어깨 나란히…13개 대학축제 휩쓴 걸그룹 정체   \n",
       "12     에스파                     에스파, 두번째 월드투어 ‘매진·매진·매진’   \n",
       "13     에스파     [랭키파이 트렌드] 뉴진스 VS 에스파...치열한 4세대 트렌드지수 경쟁   \n",
       "14     에스파            변우석 앞에는 이제 에스파와 뉴진스 뿐이다 [Oh!쎈 이슈]   \n",
       "\n",
       "                                                  url  \n",
       "0   https://magazine.hankyung.com/business/article...  \n",
       "1         https://zdnet.co.kr/view/?no=20240605174053  \n",
       "2   https://star.ytn.co.kr/_sn/0117_20240605145716...  \n",
       "3   https://sports.khan.co.kr/news/sk_index.html?a...  \n",
       "4   https://www.hani.co.kr/arti/culture/culture_ge...  \n",
       "5      https://www.hankyung.com/article/2024060692307  \n",
       "6   https://sports.khan.co.kr/news/sk_index.html?a...  \n",
       "7     https://isplus.com/article/view/isp202406030201  \n",
       "8   https://news.jtbc.co.kr/article/article.aspx?n...  \n",
       "9               https://www.mk.co.kr/article/11035003  \n",
       "10  https://www.newsis.com/view/?id=NISX20240606_0...  \n",
       "11        https://www.joongang.co.kr/article/25254603  \n",
       "12  https://sports.khan.co.kr/news/sk_index.html?a...  \n",
       "13  https://www.mhns.co.kr/news/articleView.html?i...  \n",
       "14          http://www.osen.co.kr/article/G1112350688  "
      ]
     },
     "execution_count": 91,
     "metadata": {},
     "output_type": "execute_result"
    }
   ],
   "source": [
    "df = pd.DataFrame(row_list)\n",
    "df"
   ]
  },
  {
   "cell_type": "markdown",
   "id": "16d80ddb-6986-4b4b-b774-c8418a1c4cf0",
   "metadata": {},
   "source": [
    "----\n",
    "#### 5) 이미지 다운로드 받기\n",
    "- 뉴스 컨텐츠에 있는 썸네일 이미지 다운로드"
   ]
  },
  {
   "cell_type": "code",
   "execution_count": 92,
   "id": "eb99f051-f131-44fc-85c0-e78842471daf",
   "metadata": {
    "tags": []
   },
   "outputs": [],
   "source": [
    "import requests\n",
    "from bs4 import BeautifulSoup\n",
    "\n",
    "url = \"https://search.naver.com/search.naver?ssc=tab.news.all&where=news&sm=tab_jum&query=%EC%B1%97%EC%A7%80%ED%94%BC%ED%8B%B0\"\n",
    "res = requests.get(url)\n",
    "html = res.text\n",
    "soup = BeautifulSoup(html, \"html.parser\")"
   ]
  },
  {
   "cell_type": "code",
   "execution_count": 95,
   "id": "18c1794b-f6a1-4165-9aa8-9edf303d6dcf",
   "metadata": {
    "tags": []
   },
   "outputs": [
    {
     "data": {
      "text/plain": [
       "<div class=\"news_contents\"> <a class=\"dsc_thumb\" href=\"http://www.edaily.co.kr/news/newspath.asp?newsid=01082406638919096\" onclick=\"return goOtherCR(this, 'a=nws*e.img&amp;r=1&amp;i=880000E7_000000000000000005757233&amp;g=018.0005757233&amp;u='+urlencode(this.href));\" target=\"_blank\"><img alt='\"AI로 병원 일정 관리' class=\"thumb\" data-lazysrc=\"https://search.pstatic.net/common/?src=https%3A%2F%2Fimgnews.pstatic.net%2Fimage%2Forigin%2F018%2F2024%2F06%2F06%2F5757233.jpg&amp;type=f200_200&amp;expire=2&amp;refresh=true\" height=\"104\" onerror=\"this.parentNode.style.display='none';\" src=\"data:image/gif;base64,R0lGODlhAQABAIAAAAAAAP///yH5BAEAAAAALAAAAAABAAEAAAIBRAA7\" width=\"104\"/></a> <a class=\"news_tit\" href=\"http://www.edaily.co.kr/news/newspath.asp?newsid=01082406638919096\" onclick=\"return goOtherCR(this, 'a=nws*e.tit&amp;r=1&amp;i=880000E7_000000000000000005757233&amp;g=018.0005757233&amp;u='+urlencode(this.href));\" target=\"_blank\" title='\"AI로 병원 일정 관리부터 치매간병서비스까지 제공\"[와이즈에이아이 대해부②]'>\"AI로 병원 일정 관리부터 치매간병서비스까지 제공\"[와이즈에이아이 대해부②...</a> <div class=\"news_dsc\"> <div class=\"dsc_wrap\"> <a class=\"api_txt_lines dsc_txt_wrap\" href=\"http://www.edaily.co.kr/news/newspath.asp?newsid=01082406638919096\" onclick=\"return goOtherCR(this, 'a=nws*e.body&amp;r=1&amp;i=880000E7_000000000000000005757233&amp;g=018.0005757233&amp;u='+urlencode(this.href));\" target=\"_blank\">와이<mark>지피티</mark>(WaiGPT) 엔진 구조도. (자료=와이즈에이아이) ‘자연어처리+거대 언어모델’ 차세대 인공지능 모델 보유 와이즈에이가 이런 플랫폼 사업을 벌이는 바탕에는 독보적인 자체 개발 추론 엔진 기술 경쟁력이 있다. 와이즈에이아이의 와이<mark>지피티</mark>(WaiGPT)는 패턴 기반 자연어처리(NPL)가 가능한 자체 추론...</a> </div></div></div>"
      ]
     },
     "execution_count": 95,
     "metadata": {},
     "output_type": "execute_result"
    }
   ],
   "source": [
    "div = soup.find(\"div\", attrs={\"class\":\"group_news\"})\n",
    "div_list = div.find_all(\"div\", attrs={\"class\":\"news_contents\"})\n",
    "div_list[0]"
   ]
  },
  {
   "cell_type": "code",
   "execution_count": 96,
   "id": "8a421697-82a3-4b75-8293-98d0aa2f96a3",
   "metadata": {
    "tags": []
   },
   "outputs": [],
   "source": [
    "first_div = div_list[0]"
   ]
  },
  {
   "cell_type": "code",
   "execution_count": 102,
   "id": "f10c6f01-18c6-459b-9c73-fc1edf8ea31d",
   "metadata": {
    "tags": []
   },
   "outputs": [
    {
     "data": {
      "text/plain": [
       "<img alt='\"AI로 병원 일정 관리' class=\"thumb\" data-lazysrc=\"https://search.pstatic.net/common/?src=https%3A%2F%2Fimgnews.pstatic.net%2Fimage%2Forigin%2F018%2F2024%2F06%2F06%2F5757233.jpg&amp;type=f200_200&amp;expire=2&amp;refresh=true\" height=\"104\" onerror=\"this.parentNode.style.display='none';\" src=\"data:image/gif;base64,R0lGODlhAQABAIAAAAAAAP///yH5BAEAAAAALAAAAAABAAEAAAIBRAA7\" width=\"104\"/>"
      ]
     },
     "execution_count": 102,
     "metadata": {},
     "output_type": "execute_result"
    }
   ],
   "source": [
    "first_div.find(\"a\").find(\"img\")"
   ]
  },
  {
   "cell_type": "code",
   "execution_count": 103,
   "id": "de7bff12-d5d1-40fe-a53c-3ebd967d72f1",
   "metadata": {
    "tags": []
   },
   "outputs": [
    {
     "data": {
      "text/plain": [
       "'https://search.pstatic.net/common/?src=https%3A%2F%2Fimgnews.pstatic.net%2Fimage%2Forigin%2F018%2F2024%2F06%2F06%2F5757233.jpg&type=f200_200&expire=2&refresh=true'"
      ]
     },
     "execution_count": 103,
     "metadata": {},
     "output_type": "execute_result"
    }
   ],
   "source": [
    "img = first_div.find(\"a\").find(\"img\")\n",
    "img['data-lazysrc']"
   ]
  },
  {
   "cell_type": "code",
   "execution_count": 104,
   "id": "260a09a6-1b42-4157-9eb3-d4b4c974ee38",
   "metadata": {
    "tags": []
   },
   "outputs": [],
   "source": [
    "img_url = img['data-lazysrc']"
   ]
  },
  {
   "cell_type": "code",
   "execution_count": 105,
   "id": "3698fd6b-dee3-47eb-8af9-20924a11b5eb",
   "metadata": {
    "tags": []
   },
   "outputs": [],
   "source": [
    "res = requests.get(img_url)\n",
    "save_path = '../data'\n",
    "file_name = 'thumnail'\n",
    "\n",
    "img_down = open(f'{save_path}/{file_name}.jpg', 'wb')\n",
    "img_down.write(res.content)\n",
    "img_down.close()"
   ]
  },
  {
   "cell_type": "code",
   "execution_count": null,
   "id": "84d70320-cc12-4f67-bee3-38797df11388",
   "metadata": {},
   "outputs": [],
   "source": []
  }
 ],
 "metadata": {
  "kernelspec": {
   "display_name": "Python 3 (ipykernel)",
   "language": "python",
   "name": "python3"
  },
  "language_info": {
   "codemirror_mode": {
    "name": "ipython",
    "version": 3
   },
   "file_extension": ".py",
   "mimetype": "text/x-python",
   "name": "python",
   "nbconvert_exporter": "python",
   "pygments_lexer": "ipython3",
   "version": "3.9.16"
  }
 },
 "nbformat": 4,
 "nbformat_minor": 5
}
